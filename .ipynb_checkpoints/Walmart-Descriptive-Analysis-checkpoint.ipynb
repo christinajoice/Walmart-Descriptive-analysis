{
 "cells": [
  {
   "cell_type": "markdown",
   "id": "ae366919-ff45-4e7a-b981-ca278e3e92ae",
   "metadata": {},
   "source": [
    "# **Walmart-Descriptive Analysis**"
   ]
  },
  {
   "cell_type": "markdown",
   "id": "18ea1cd2-6573-4bdf-aedc-8e05999b8838",
   "metadata": {},
   "source": [
    "## About Walmart\n",
    "\n",
    "Walmart is an American multinational retail corporation that operates a chain of supercenters, discount departmental stores, and grocery stores from the United States. Walmart has more than 100 million customers worldwide.\n",
    "\n",
    "\n",
    "## Business Problem\n",
    "\n",
    "The Management team at Walmart Inc. wants to analyze the customer purchase behavior (specifically, purchase amount) against the customer’s gender and the various other factors to help the business make better decisions. They want to understand if the spending habits differ between male and female customers: Do women spend more on Black Friday than men? (Assume 50 million customers are male and 50 million are female).\n",
    "\n",
    "\n",
    "## Dataset\n",
    "\n",
    "The company collected the transactional data of customers who purchased products from the Walmart Stores during Black Friday. The dataset has the following features:\n",
    "Dataset link: <a href=\"https://d2beiqkhq929f0.cloudfront.net/public_assets/assets/000/001/293/original/walmart_data.csv?1641285094\">Walmart_data.csv</a>\n",
    "\n",
    "User_ID:\tUser ID\n",
    "Product_ID:\tProduct ID\n",
    "Gender:\tSex of User\n",
    "Age:\tAge in bins\n",
    "Occupation:\tOccupation(Masked)\n",
    "City_Category:\tCategory of the City (A,B,C)\n",
    "StayInCurrentCityYears:\tNumber of years stay in current city\n",
    "Marital_Status:\tMarital Status\n",
    "ProductCategory:\tProduct Category (Masked)\n",
    "Purchase:\tPurchase Amount"
   ]
  },
  {
   "cell_type": "code",
   "execution_count": 134,
   "id": "b616acae-4011-4384-a68b-336964fbd9db",
   "metadata": {
    "tags": []
   },
   "outputs": [
    {
     "name": "stdout",
     "output_type": "stream",
     "text": [
      "Collecting binsreg\n",
      "  Downloading binsreg-2.0.2-py3-none-any.whl (85 kB)\n",
      "\u001b[2K     \u001b[38;2;114;156;31m━━━━━━━━━━━━━━━━━━━━━━━━━━━━━━━━━━━━━━━\u001b[0m \u001b[32m85.6/85.6 kB\u001b[0m \u001b[31m427.4 kB/s\u001b[0m eta \u001b[36m0:00:00\u001b[0m1m258.6 kB/s\u001b[0m eta \u001b[36m0:00:01\u001b[0m\n",
      "\u001b[?25hRequirement already satisfied: scipy in /home/rently/anaconda3/lib/python3.10/site-packages (from binsreg) (1.10.0)\n",
      "Collecting plotnine\n",
      "  Downloading plotnine-0.12.3-py3-none-any.whl (1.3 MB)\n",
      "\u001b[2K     \u001b[38;2;114;156;31m━━━━━━━━━━━━━━━━━━━━━━━━━━━━━━━━━━━━━━━━\u001b[0m \u001b[32m1.3/1.3 MB\u001b[0m \u001b[31m2.0 MB/s\u001b[0m eta \u001b[36m0:00:00\u001b[0mm eta \u001b[36m0:00:01\u001b[0m[36m0:00:01\u001b[0m0m\n",
      "\u001b[?25hCollecting pandas>=2.0.0\n",
      "  Downloading pandas-2.1.0-cp310-cp310-manylinux_2_17_x86_64.manylinux2014_x86_64.whl (12.7 MB)\n",
      "\u001b[2K     \u001b[38;2;114;156;31m━━━━━━━━━━━━━━━━━━━━━━━━━━━━━━━━━━━━━━━━\u001b[0m \u001b[32m12.7/12.7 MB\u001b[0m \u001b[31m3.7 MB/s\u001b[0m eta \u001b[36m0:00:00\u001b[0mm eta \u001b[36m0:00:01\u001b[0m0:01\u001b[0m:01\u001b[0m\n",
      "\u001b[?25hCollecting statsmodels>=0.14.0\n",
      "  Downloading statsmodels-0.14.0-cp310-cp310-manylinux_2_17_x86_64.manylinux2014_x86_64.whl (10.1 MB)\n",
      "\u001b[2K     \u001b[38;2;114;156;31m━━━━━━━━━━━━━━━━━━━━━━━━━━━━━━━━━━━━━━━━\u001b[0m \u001b[32m10.1/10.1 MB\u001b[0m \u001b[31m3.3 MB/s\u001b[0m eta \u001b[36m0:00:00\u001b[0mm eta \u001b[36m0:00:01\u001b[0m:01\u001b[0m:01\u001b[0m\n",
      "\u001b[?25hRequirement already satisfied: numpy in /home/rently/anaconda3/lib/python3.10/site-packages (from binsreg) (1.23.5)\n",
      "Requirement already satisfied: pytz>=2020.1 in /home/rently/anaconda3/lib/python3.10/site-packages (from pandas>=2.0.0->binsreg) (2022.7)\n",
      "Requirement already satisfied: python-dateutil>=2.8.2 in /home/rently/anaconda3/lib/python3.10/site-packages (from pandas>=2.0.0->binsreg) (2.8.2)\n",
      "Collecting tzdata>=2022.1\n",
      "  Downloading tzdata-2023.3-py2.py3-none-any.whl (341 kB)\n",
      "\u001b[2K     \u001b[38;2;114;156;31m━━━━━━━━━━━━━━━━━━━━━━━━━━━━━━━━━━━━━━━\u001b[0m \u001b[32m341.8/341.8 kB\u001b[0m \u001b[31m1.7 MB/s\u001b[0m eta \u001b[36m0:00:00\u001b[0m MB/s\u001b[0m eta \u001b[36m0:00:01\u001b[0m:01\u001b[0m\n",
      "\u001b[?25hRequirement already satisfied: patsy>=0.5.2 in /home/rently/anaconda3/lib/python3.10/site-packages (from statsmodels>=0.14.0->binsreg) (0.5.3)\n",
      "Requirement already satisfied: packaging>=21.3 in /home/rently/anaconda3/lib/python3.10/site-packages (from statsmodels>=0.14.0->binsreg) (22.0)\n",
      "Requirement already satisfied: matplotlib>=3.6.0 in /home/rently/anaconda3/lib/python3.10/site-packages (from plotnine->binsreg) (3.7.0)\n",
      "Collecting mizani<0.10.0,>0.9.0\n",
      "  Downloading mizani-0.9.3-py3-none-any.whl (73 kB)\n",
      "\u001b[2K     \u001b[38;2;114;156;31m━━━━━━━━━━━━━━━━━━━━━━━━━━━━━━━━━━━━━━━━\u001b[0m \u001b[32m73.7/73.7 kB\u001b[0m \u001b[31m3.1 MB/s\u001b[0m eta \u001b[36m0:00:00\u001b[0m\n",
      "\u001b[?25hRequirement already satisfied: contourpy>=1.0.1 in /home/rently/anaconda3/lib/python3.10/site-packages (from matplotlib>=3.6.0->plotnine->binsreg) (1.0.5)\n",
      "Requirement already satisfied: cycler>=0.10 in /home/rently/anaconda3/lib/python3.10/site-packages (from matplotlib>=3.6.0->plotnine->binsreg) (0.11.0)\n",
      "Requirement already satisfied: pyparsing>=2.3.1 in /home/rently/anaconda3/lib/python3.10/site-packages (from matplotlib>=3.6.0->plotnine->binsreg) (3.0.9)\n",
      "Requirement already satisfied: fonttools>=4.22.0 in /home/rently/anaconda3/lib/python3.10/site-packages (from matplotlib>=3.6.0->plotnine->binsreg) (4.25.0)\n",
      "Requirement already satisfied: kiwisolver>=1.0.1 in /home/rently/anaconda3/lib/python3.10/site-packages (from matplotlib>=3.6.0->plotnine->binsreg) (1.4.4)\n",
      "Requirement already satisfied: pillow>=6.2.0 in /home/rently/anaconda3/lib/python3.10/site-packages (from matplotlib>=3.6.0->plotnine->binsreg) (9.4.0)\n",
      "Requirement already satisfied: six in /home/rently/anaconda3/lib/python3.10/site-packages (from patsy>=0.5.2->statsmodels>=0.14.0->binsreg) (1.16.0)\n",
      "Installing collected packages: tzdata, pandas, statsmodels, mizani, plotnine, binsreg\n",
      "  Attempting uninstall: pandas\n",
      "    Found existing installation: pandas 1.5.3\n",
      "    Uninstalling pandas-1.5.3:\n",
      "      Successfully uninstalled pandas-1.5.3\n",
      "  Attempting uninstall: statsmodels\n",
      "    Found existing installation: statsmodels 0.13.5\n",
      "    Uninstalling statsmodels-0.13.5:\n",
      "      Successfully uninstalled statsmodels-0.13.5\n",
      "Successfully installed binsreg-2.0.2 mizani-0.9.3 pandas-2.1.0 plotnine-0.12.3 statsmodels-0.14.0 tzdata-2023.3\n",
      "Note: you may need to restart the kernel to use updated packages.\n"
     ]
    }
   ],
   "source": [
    "%pip install binsreg"
   ]
  },
  {
   "cell_type": "code",
   "execution_count": 140,
   "id": "fdfb5fad-3b44-4c37-8173-44f859c348d2",
   "metadata": {
    "tags": []
   },
   "outputs": [],
   "source": [
    "import numpy as np\n",
    "import pandas as pd\n",
    "import seaborn as sns\n",
    "import matplotlib.pyplot as plt\n",
    "from scipy.stats import norm\n",
    "from binsreg import binsregselect, binsreg, binsqreg, binsglm, binstest, binspwc"
   ]
  },
  {
   "cell_type": "code",
   "execution_count": 73,
   "id": "ac6b9a7b-a13f-46d5-97bd-39d50ba5d60e",
   "metadata": {
    "tags": []
   },
   "outputs": [],
   "source": [
    "df=pd.read_csv(\"walmart_data.csv\")"
   ]
  },
  {
   "cell_type": "code",
   "execution_count": 136,
   "id": "44dc75b7-c8d1-45f8-a03c-ff3fead28326",
   "metadata": {
    "tags": []
   },
   "outputs": [
    {
     "data": {
      "text/html": [
       "<div>\n",
       "<style scoped>\n",
       "    .dataframe tbody tr th:only-of-type {\n",
       "        vertical-align: middle;\n",
       "    }\n",
       "\n",
       "    .dataframe tbody tr th {\n",
       "        vertical-align: top;\n",
       "    }\n",
       "\n",
       "    .dataframe thead th {\n",
       "        text-align: right;\n",
       "    }\n",
       "</style>\n",
       "<table border=\"1\" class=\"dataframe\">\n",
       "  <thead>\n",
       "    <tr style=\"text-align: right;\">\n",
       "      <th></th>\n",
       "      <th>User_ID</th>\n",
       "      <th>Product_ID</th>\n",
       "      <th>Gender</th>\n",
       "      <th>Age</th>\n",
       "      <th>Occupation</th>\n",
       "      <th>City_Category</th>\n",
       "      <th>Stay_In_Current_City_Years</th>\n",
       "      <th>Marital_Status</th>\n",
       "      <th>Product_Category</th>\n",
       "      <th>Purchase</th>\n",
       "    </tr>\n",
       "  </thead>\n",
       "  <tbody>\n",
       "    <tr>\n",
       "      <th>0</th>\n",
       "      <td>1000001</td>\n",
       "      <td>P00069042</td>\n",
       "      <td>F</td>\n",
       "      <td>0-17</td>\n",
       "      <td>10</td>\n",
       "      <td>A</td>\n",
       "      <td>2</td>\n",
       "      <td>0</td>\n",
       "      <td>3</td>\n",
       "      <td>8370</td>\n",
       "    </tr>\n",
       "    <tr>\n",
       "      <th>1</th>\n",
       "      <td>1000001</td>\n",
       "      <td>P00248942</td>\n",
       "      <td>F</td>\n",
       "      <td>0-17</td>\n",
       "      <td>10</td>\n",
       "      <td>A</td>\n",
       "      <td>2</td>\n",
       "      <td>0</td>\n",
       "      <td>1</td>\n",
       "      <td>15200</td>\n",
       "    </tr>\n",
       "    <tr>\n",
       "      <th>2</th>\n",
       "      <td>1000001</td>\n",
       "      <td>P00087842</td>\n",
       "      <td>F</td>\n",
       "      <td>0-17</td>\n",
       "      <td>10</td>\n",
       "      <td>A</td>\n",
       "      <td>2</td>\n",
       "      <td>0</td>\n",
       "      <td>12</td>\n",
       "      <td>1422</td>\n",
       "    </tr>\n",
       "    <tr>\n",
       "      <th>3</th>\n",
       "      <td>1000001</td>\n",
       "      <td>P00085442</td>\n",
       "      <td>F</td>\n",
       "      <td>0-17</td>\n",
       "      <td>10</td>\n",
       "      <td>A</td>\n",
       "      <td>2</td>\n",
       "      <td>0</td>\n",
       "      <td>12</td>\n",
       "      <td>1057</td>\n",
       "    </tr>\n",
       "    <tr>\n",
       "      <th>4</th>\n",
       "      <td>1000002</td>\n",
       "      <td>P00285442</td>\n",
       "      <td>M</td>\n",
       "      <td>55+</td>\n",
       "      <td>16</td>\n",
       "      <td>C</td>\n",
       "      <td>4+</td>\n",
       "      <td>0</td>\n",
       "      <td>8</td>\n",
       "      <td>7969</td>\n",
       "    </tr>\n",
       "    <tr>\n",
       "      <th>...</th>\n",
       "      <td>...</td>\n",
       "      <td>...</td>\n",
       "      <td>...</td>\n",
       "      <td>...</td>\n",
       "      <td>...</td>\n",
       "      <td>...</td>\n",
       "      <td>...</td>\n",
       "      <td>...</td>\n",
       "      <td>...</td>\n",
       "      <td>...</td>\n",
       "    </tr>\n",
       "    <tr>\n",
       "      <th>550063</th>\n",
       "      <td>1006033</td>\n",
       "      <td>P00372445</td>\n",
       "      <td>M</td>\n",
       "      <td>51-55</td>\n",
       "      <td>13</td>\n",
       "      <td>B</td>\n",
       "      <td>1</td>\n",
       "      <td>1</td>\n",
       "      <td>20</td>\n",
       "      <td>368</td>\n",
       "    </tr>\n",
       "    <tr>\n",
       "      <th>550064</th>\n",
       "      <td>1006035</td>\n",
       "      <td>P00375436</td>\n",
       "      <td>F</td>\n",
       "      <td>26-35</td>\n",
       "      <td>1</td>\n",
       "      <td>C</td>\n",
       "      <td>3</td>\n",
       "      <td>0</td>\n",
       "      <td>20</td>\n",
       "      <td>371</td>\n",
       "    </tr>\n",
       "    <tr>\n",
       "      <th>550065</th>\n",
       "      <td>1006036</td>\n",
       "      <td>P00375436</td>\n",
       "      <td>F</td>\n",
       "      <td>26-35</td>\n",
       "      <td>15</td>\n",
       "      <td>B</td>\n",
       "      <td>4+</td>\n",
       "      <td>1</td>\n",
       "      <td>20</td>\n",
       "      <td>137</td>\n",
       "    </tr>\n",
       "    <tr>\n",
       "      <th>550066</th>\n",
       "      <td>1006038</td>\n",
       "      <td>P00375436</td>\n",
       "      <td>F</td>\n",
       "      <td>55+</td>\n",
       "      <td>1</td>\n",
       "      <td>C</td>\n",
       "      <td>2</td>\n",
       "      <td>0</td>\n",
       "      <td>20</td>\n",
       "      <td>365</td>\n",
       "    </tr>\n",
       "    <tr>\n",
       "      <th>550067</th>\n",
       "      <td>1006039</td>\n",
       "      <td>P00371644</td>\n",
       "      <td>F</td>\n",
       "      <td>46-50</td>\n",
       "      <td>0</td>\n",
       "      <td>B</td>\n",
       "      <td>4+</td>\n",
       "      <td>1</td>\n",
       "      <td>20</td>\n",
       "      <td>490</td>\n",
       "    </tr>\n",
       "  </tbody>\n",
       "</table>\n",
       "<p>550068 rows × 10 columns</p>\n",
       "</div>"
      ],
      "text/plain": [
       "        User_ID Product_ID Gender    Age  Occupation City_Category  \\\n",
       "0       1000001  P00069042      F   0-17          10             A   \n",
       "1       1000001  P00248942      F   0-17          10             A   \n",
       "2       1000001  P00087842      F   0-17          10             A   \n",
       "3       1000001  P00085442      F   0-17          10             A   \n",
       "4       1000002  P00285442      M    55+          16             C   \n",
       "...         ...        ...    ...    ...         ...           ...   \n",
       "550063  1006033  P00372445      M  51-55          13             B   \n",
       "550064  1006035  P00375436      F  26-35           1             C   \n",
       "550065  1006036  P00375436      F  26-35          15             B   \n",
       "550066  1006038  P00375436      F    55+           1             C   \n",
       "550067  1006039  P00371644      F  46-50           0             B   \n",
       "\n",
       "       Stay_In_Current_City_Years  Marital_Status  Product_Category  Purchase  \n",
       "0                               2               0                 3      8370  \n",
       "1                               2               0                 1     15200  \n",
       "2                               2               0                12      1422  \n",
       "3                               2               0                12      1057  \n",
       "4                              4+               0                 8      7969  \n",
       "...                           ...             ...               ...       ...  \n",
       "550063                          1               1                20       368  \n",
       "550064                          3               0                20       371  \n",
       "550065                         4+               1                20       137  \n",
       "550066                          2               0                20       365  \n",
       "550067                         4+               1                20       490  \n",
       "\n",
       "[550068 rows x 10 columns]"
      ]
     },
     "execution_count": 136,
     "metadata": {},
     "output_type": "execute_result"
    }
   ],
   "source": [
    "df"
   ]
  },
  {
   "cell_type": "code",
   "execution_count": 137,
   "id": "a7c1ddfd-b335-432e-bdcf-dff9185a7bbc",
   "metadata": {
    "tags": []
   },
   "outputs": [
    {
     "name": "stdout",
     "output_type": "stream",
     "text": [
      "<class 'pandas.core.frame.DataFrame'>\n",
      "RangeIndex: 550068 entries, 0 to 550067\n",
      "Data columns (total 10 columns):\n",
      " #   Column                      Non-Null Count   Dtype \n",
      "---  ------                      --------------   ----- \n",
      " 0   User_ID                     550068 non-null  int64 \n",
      " 1   Product_ID                  550068 non-null  object\n",
      " 2   Gender                      550068 non-null  object\n",
      " 3   Age                         550068 non-null  object\n",
      " 4   Occupation                  550068 non-null  int64 \n",
      " 5   City_Category               550068 non-null  object\n",
      " 6   Stay_In_Current_City_Years  550068 non-null  object\n",
      " 7   Marital_Status              550068 non-null  int64 \n",
      " 8   Product_Category            550068 non-null  int64 \n",
      " 9   Purchase                    550068 non-null  int64 \n",
      "dtypes: int64(5), object(5)\n",
      "memory usage: 42.0+ MB\n"
     ]
    }
   ],
   "source": [
    "df.info()"
   ]
  },
  {
   "cell_type": "code",
   "execution_count": 76,
   "id": "29171ffe-992e-435b-8ea3-32bb5681afbe",
   "metadata": {
    "tags": []
   },
   "outputs": [
    {
     "data": {
      "text/plain": [
       "User_ID                       0\n",
       "Product_ID                    0\n",
       "Gender                        0\n",
       "Age                           0\n",
       "Occupation                    0\n",
       "City_Category                 0\n",
       "Stay_In_Current_City_Years    0\n",
       "Marital_Status                0\n",
       "Product_Category              0\n",
       "Purchase                      0\n",
       "dtype: int64"
      ]
     },
     "execution_count": 76,
     "metadata": {},
     "output_type": "execute_result"
    }
   ],
   "source": [
    "df.isna().sum()"
   ]
  },
  {
   "cell_type": "code",
   "execution_count": 355,
   "id": "9b00c08b-1363-4df5-bd48-fa9b1c21e6f0",
   "metadata": {
    "tags": []
   },
   "outputs": [
    {
     "data": {
      "text/html": [
       "<div>\n",
       "<style scoped>\n",
       "    .dataframe tbody tr th:only-of-type {\n",
       "        vertical-align: middle;\n",
       "    }\n",
       "\n",
       "    .dataframe tbody tr th {\n",
       "        vertical-align: top;\n",
       "    }\n",
       "\n",
       "    .dataframe thead th {\n",
       "        text-align: right;\n",
       "    }\n",
       "</style>\n",
       "<table border=\"1\" class=\"dataframe\">\n",
       "  <thead>\n",
       "    <tr style=\"text-align: right;\">\n",
       "      <th></th>\n",
       "      <th>User_ID</th>\n",
       "      <th>Occupation</th>\n",
       "      <th>Marital_Status</th>\n",
       "      <th>Product_Category</th>\n",
       "      <th>Purchase</th>\n",
       "    </tr>\n",
       "  </thead>\n",
       "  <tbody>\n",
       "    <tr>\n",
       "      <th>count</th>\n",
       "      <td>5.500680e+05</td>\n",
       "      <td>550068.000000</td>\n",
       "      <td>550068.000000</td>\n",
       "      <td>550068.000000</td>\n",
       "      <td>550068.000000</td>\n",
       "    </tr>\n",
       "    <tr>\n",
       "      <th>mean</th>\n",
       "      <td>1.003029e+06</td>\n",
       "      <td>8.076707</td>\n",
       "      <td>0.409653</td>\n",
       "      <td>5.404270</td>\n",
       "      <td>9263.968713</td>\n",
       "    </tr>\n",
       "    <tr>\n",
       "      <th>std</th>\n",
       "      <td>1.727592e+03</td>\n",
       "      <td>6.522660</td>\n",
       "      <td>0.491770</td>\n",
       "      <td>3.936211</td>\n",
       "      <td>5023.065394</td>\n",
       "    </tr>\n",
       "    <tr>\n",
       "      <th>min</th>\n",
       "      <td>1.000001e+06</td>\n",
       "      <td>0.000000</td>\n",
       "      <td>0.000000</td>\n",
       "      <td>1.000000</td>\n",
       "      <td>12.000000</td>\n",
       "    </tr>\n",
       "    <tr>\n",
       "      <th>25%</th>\n",
       "      <td>1.001516e+06</td>\n",
       "      <td>2.000000</td>\n",
       "      <td>0.000000</td>\n",
       "      <td>1.000000</td>\n",
       "      <td>5823.000000</td>\n",
       "    </tr>\n",
       "    <tr>\n",
       "      <th>50%</th>\n",
       "      <td>1.003077e+06</td>\n",
       "      <td>7.000000</td>\n",
       "      <td>0.000000</td>\n",
       "      <td>5.000000</td>\n",
       "      <td>8047.000000</td>\n",
       "    </tr>\n",
       "    <tr>\n",
       "      <th>75%</th>\n",
       "      <td>1.004478e+06</td>\n",
       "      <td>14.000000</td>\n",
       "      <td>1.000000</td>\n",
       "      <td>8.000000</td>\n",
       "      <td>12054.000000</td>\n",
       "    </tr>\n",
       "    <tr>\n",
       "      <th>max</th>\n",
       "      <td>1.006040e+06</td>\n",
       "      <td>20.000000</td>\n",
       "      <td>1.000000</td>\n",
       "      <td>20.000000</td>\n",
       "      <td>23961.000000</td>\n",
       "    </tr>\n",
       "  </tbody>\n",
       "</table>\n",
       "</div>"
      ],
      "text/plain": [
       "            User_ID     Occupation  Marital_Status  Product_Category  \\\n",
       "count  5.500680e+05  550068.000000   550068.000000     550068.000000   \n",
       "mean   1.003029e+06       8.076707        0.409653          5.404270   \n",
       "std    1.727592e+03       6.522660        0.491770          3.936211   \n",
       "min    1.000001e+06       0.000000        0.000000          1.000000   \n",
       "25%    1.001516e+06       2.000000        0.000000          1.000000   \n",
       "50%    1.003077e+06       7.000000        0.000000          5.000000   \n",
       "75%    1.004478e+06      14.000000        1.000000          8.000000   \n",
       "max    1.006040e+06      20.000000        1.000000         20.000000   \n",
       "\n",
       "            Purchase  \n",
       "count  550068.000000  \n",
       "mean     9263.968713  \n",
       "std      5023.065394  \n",
       "min        12.000000  \n",
       "25%      5823.000000  \n",
       "50%      8047.000000  \n",
       "75%     12054.000000  \n",
       "max     23961.000000  "
      ]
     },
     "execution_count": 355,
     "metadata": {},
     "output_type": "execute_result"
    }
   ],
   "source": [
    "df.describe()"
   ]
  },
  {
   "cell_type": "code",
   "execution_count": 356,
   "id": "d53a030f-dd11-46bc-b248-d8101c9c48b0",
   "metadata": {
    "tags": []
   },
   "outputs": [
    {
     "data": {
      "text/plain": [
       "5891"
      ]
     },
     "execution_count": 356,
     "metadata": {},
     "output_type": "execute_result"
    }
   ],
   "source": [
    "df['User_ID'].nunique()"
   ]
  },
  {
   "cell_type": "code",
   "execution_count": 357,
   "id": "604403a1-ad1c-4de0-963f-b63439c7e42b",
   "metadata": {
    "tags": []
   },
   "outputs": [
    {
     "data": {
      "text/plain": [
       "3631"
      ]
     },
     "execution_count": 357,
     "metadata": {},
     "output_type": "execute_result"
    }
   ],
   "source": [
    "df['Product_ID'].nunique()"
   ]
  },
  {
   "cell_type": "code",
   "execution_count": 359,
   "id": "e1b24f55-2db5-4040-98de-10647f4e09b2",
   "metadata": {
    "tags": []
   },
   "outputs": [
    {
     "data": {
      "text/html": [
       "<div>\n",
       "<style scoped>\n",
       "    .dataframe tbody tr th:only-of-type {\n",
       "        vertical-align: middle;\n",
       "    }\n",
       "\n",
       "    .dataframe tbody tr th {\n",
       "        vertical-align: top;\n",
       "    }\n",
       "\n",
       "    .dataframe thead th {\n",
       "        text-align: right;\n",
       "    }\n",
       "</style>\n",
       "<table border=\"1\" class=\"dataframe\">\n",
       "  <thead>\n",
       "    <tr style=\"text-align: right;\">\n",
       "      <th></th>\n",
       "      <th></th>\n",
       "      <th>value</th>\n",
       "    </tr>\n",
       "    <tr>\n",
       "      <th>variable</th>\n",
       "      <th>value</th>\n",
       "      <th></th>\n",
       "    </tr>\n",
       "  </thead>\n",
       "  <tbody>\n",
       "    <tr>\n",
       "      <th rowspan=\"7\" valign=\"top\">Age</th>\n",
       "      <th>0-17</th>\n",
       "      <td>0.027455</td>\n",
       "    </tr>\n",
       "    <tr>\n",
       "      <th>18-25</th>\n",
       "      <td>0.181178</td>\n",
       "    </tr>\n",
       "    <tr>\n",
       "      <th>26-35</th>\n",
       "      <td>0.399200</td>\n",
       "    </tr>\n",
       "    <tr>\n",
       "      <th>36-45</th>\n",
       "      <td>0.199999</td>\n",
       "    </tr>\n",
       "    <tr>\n",
       "      <th>46-50</th>\n",
       "      <td>0.083082</td>\n",
       "    </tr>\n",
       "    <tr>\n",
       "      <th>51-55</th>\n",
       "      <td>0.069993</td>\n",
       "    </tr>\n",
       "    <tr>\n",
       "      <th>55+</th>\n",
       "      <td>0.039093</td>\n",
       "    </tr>\n",
       "    <tr>\n",
       "      <th rowspan=\"3\" valign=\"top\">City_Category</th>\n",
       "      <th>A</th>\n",
       "      <td>0.268549</td>\n",
       "    </tr>\n",
       "    <tr>\n",
       "      <th>B</th>\n",
       "      <td>0.420263</td>\n",
       "    </tr>\n",
       "    <tr>\n",
       "      <th>C</th>\n",
       "      <td>0.311189</td>\n",
       "    </tr>\n",
       "    <tr>\n",
       "      <th rowspan=\"2\" valign=\"top\">Gender</th>\n",
       "      <th>F</th>\n",
       "      <td>0.246895</td>\n",
       "    </tr>\n",
       "    <tr>\n",
       "      <th>M</th>\n",
       "      <td>0.753105</td>\n",
       "    </tr>\n",
       "    <tr>\n",
       "      <th rowspan=\"21\" valign=\"top\">Occupation</th>\n",
       "      <th>0</th>\n",
       "      <td>0.126599</td>\n",
       "    </tr>\n",
       "    <tr>\n",
       "      <th>1</th>\n",
       "      <td>0.086218</td>\n",
       "    </tr>\n",
       "    <tr>\n",
       "      <th>2</th>\n",
       "      <td>0.048336</td>\n",
       "    </tr>\n",
       "    <tr>\n",
       "      <th>3</th>\n",
       "      <td>0.032087</td>\n",
       "    </tr>\n",
       "    <tr>\n",
       "      <th>4</th>\n",
       "      <td>0.131453</td>\n",
       "    </tr>\n",
       "    <tr>\n",
       "      <th>5</th>\n",
       "      <td>0.022137</td>\n",
       "    </tr>\n",
       "    <tr>\n",
       "      <th>6</th>\n",
       "      <td>0.037005</td>\n",
       "    </tr>\n",
       "    <tr>\n",
       "      <th>7</th>\n",
       "      <td>0.107501</td>\n",
       "    </tr>\n",
       "    <tr>\n",
       "      <th>8</th>\n",
       "      <td>0.002811</td>\n",
       "    </tr>\n",
       "    <tr>\n",
       "      <th>9</th>\n",
       "      <td>0.011437</td>\n",
       "    </tr>\n",
       "    <tr>\n",
       "      <th>10</th>\n",
       "      <td>0.023506</td>\n",
       "    </tr>\n",
       "    <tr>\n",
       "      <th>11</th>\n",
       "      <td>0.021063</td>\n",
       "    </tr>\n",
       "    <tr>\n",
       "      <th>12</th>\n",
       "      <td>0.056682</td>\n",
       "    </tr>\n",
       "    <tr>\n",
       "      <th>13</th>\n",
       "      <td>0.014049</td>\n",
       "    </tr>\n",
       "    <tr>\n",
       "      <th>14</th>\n",
       "      <td>0.049647</td>\n",
       "    </tr>\n",
       "    <tr>\n",
       "      <th>15</th>\n",
       "      <td>0.022115</td>\n",
       "    </tr>\n",
       "    <tr>\n",
       "      <th>16</th>\n",
       "      <td>0.046123</td>\n",
       "    </tr>\n",
       "    <tr>\n",
       "      <th>17</th>\n",
       "      <td>0.072796</td>\n",
       "    </tr>\n",
       "    <tr>\n",
       "      <th>18</th>\n",
       "      <td>0.012039</td>\n",
       "    </tr>\n",
       "    <tr>\n",
       "      <th>19</th>\n",
       "      <td>0.015382</td>\n",
       "    </tr>\n",
       "    <tr>\n",
       "      <th>20</th>\n",
       "      <td>0.061014</td>\n",
       "    </tr>\n",
       "    <tr>\n",
       "      <th rowspan=\"5\" valign=\"top\">Stay_In_Current_City_Years</th>\n",
       "      <th>0</th>\n",
       "      <td>0.135252</td>\n",
       "    </tr>\n",
       "    <tr>\n",
       "      <th>1</th>\n",
       "      <td>0.352358</td>\n",
       "    </tr>\n",
       "    <tr>\n",
       "      <th>2</th>\n",
       "      <td>0.185137</td>\n",
       "    </tr>\n",
       "    <tr>\n",
       "      <th>3</th>\n",
       "      <td>0.173224</td>\n",
       "    </tr>\n",
       "    <tr>\n",
       "      <th>4+</th>\n",
       "      <td>0.154028</td>\n",
       "    </tr>\n",
       "  </tbody>\n",
       "</table>\n",
       "</div>"
      ],
      "text/plain": [
       "                                     value\n",
       "variable                   value          \n",
       "Age                        0-17   0.027455\n",
       "                           18-25  0.181178\n",
       "                           26-35  0.399200\n",
       "                           36-45  0.199999\n",
       "                           46-50  0.083082\n",
       "                           51-55  0.069993\n",
       "                           55+    0.039093\n",
       "City_Category              A      0.268549\n",
       "                           B      0.420263\n",
       "                           C      0.311189\n",
       "Gender                     F      0.246895\n",
       "                           M      0.753105\n",
       "Occupation                 0      0.126599\n",
       "                           1      0.086218\n",
       "                           2      0.048336\n",
       "                           3      0.032087\n",
       "                           4      0.131453\n",
       "                           5      0.022137\n",
       "                           6      0.037005\n",
       "                           7      0.107501\n",
       "                           8      0.002811\n",
       "                           9      0.011437\n",
       "                           10     0.023506\n",
       "                           11     0.021063\n",
       "                           12     0.056682\n",
       "                           13     0.014049\n",
       "                           14     0.049647\n",
       "                           15     0.022115\n",
       "                           16     0.046123\n",
       "                           17     0.072796\n",
       "                           18     0.012039\n",
       "                           19     0.015382\n",
       "                           20     0.061014\n",
       "Stay_In_Current_City_Years 0      0.135252\n",
       "                           1      0.352358\n",
       "                           2      0.185137\n",
       "                           3      0.173224\n",
       "                           4+     0.154028"
      ]
     },
     "execution_count": 359,
     "metadata": {},
     "output_type": "execute_result"
    }
   ],
   "source": [
    "categorical_cols=['Gender','Age','Occupation','City_Category','Stay_In_Current_City_Years']\n",
    "df[categorical_cols].melt().groupby(['variable','value'])[['value']].count()/len(df)"
   ]
  },
  {
   "cell_type": "markdown",
   "id": "3c15203a-921e-4354-b8df-e680892f09fc",
   "metadata": {},
   "source": [
    "1.~ 80% of the users are between the age 18-50 (40%: 26-35, 18%:\n",
    "18-25, 20%: 36-45)\n",
    "\n",
    "2.75% of the users are Male and 25% are Female\n",
    "\n",
    "3.60% Single, 40% Married\n",
    "\n",
    "4.35% Staying in the city from 1 year, 18% from 2 years, 17% from 3\n",
    "years and so on.\n",
    "\n",
    "5.Total of 20 product categories are there\n",
    "\n",
    "6.There are 20 differnent types of occupations in the city"
   ]
  },
  {
   "cell_type": "code",
   "execution_count": 360,
   "id": "58f1f97d-7d60-41f9-9f00-4c3f72a270ef",
   "metadata": {
    "tags": []
   },
   "outputs": [
    {
     "data": {
      "image/png": "[encoded data removed]",
      "text/plain": [
       "<Figure size 1600x1200 with 4 Axes>"
      ]
     },
     "metadata": {},
     "output_type": "display_data"
    }
   ],
   "source": [
    "cat_col=['Gender','Occupation','City_Category','Marital_Status','Product_Category']\n",
    "fig,axs=plt.subplots(nrows=2,ncols=2,figsize=(16,12))\n",
    "sns.countplot(data=df,x='Gender',ax=axs[0,0])\n",
    "sns.countplot(data=df,x='Occupation',ax=axs[0,1])\n",
    "sns.countplot(data=df,x='City_Category',ax=axs[1,0])\n",
    "sns.countplot(data=df,x='Marital_Status',ax=axs[1,1])\n",
    "plt.show()"
   ]
  },
  {
   "cell_type": "code",
   "execution_count": 361,
   "id": "07ab0351-6c9d-4202-a387-1c07b1cb61d3",
   "metadata": {
    "tags": []
   },
   "outputs": [
    {
     "data": {
      "image/png": "[encoded data removed]",
      "text/plain": [
       "<Figure size 1000x900 with 1 Axes>"
      ]
     },
     "metadata": {},
     "output_type": "display_data"
    }
   ],
   "source": [
    "plt.figure(figsize=(10,9))\n",
    "sns.countplot(data=df,x='Product_Category')\n",
    "plt.show()"
   ]
  },
  {
   "cell_type": "code",
   "execution_count": 362,
   "id": "833eb3c0-5d2d-4cf7-a699-5759c87df8b9",
   "metadata": {
    "tags": []
   },
   "outputs": [
    {
     "data": {
      "image/png": "[encoded data removed]",
      "text/plain": [
       "<Figure size 1500x500 with 1 Axes>"
      ]
     },
     "metadata": {},
     "output_type": "display_data"
    }
   ],
   "source": [
    "fig = plt.figure(figsize=(15,5))\n",
    "fig.set_facecolor(\"lightgrey\")\n",
    "plt.subplot(1,2,1)\n",
    "sns.boxplot(df[\"Purchase\"],color='m')\n",
    "plt.title(\"Boxplot for outliers detection\", fontweight=\"bold\",fontsize=14)\n",
    "plt.xlabel('Purchase', fontsize=12)\n",
    "plt.show()"
   ]
  },
  {
   "cell_type": "code",
   "execution_count": null,
   "id": "6b35bcba-4a01-43f7-b880-92082ddb6a23",
   "metadata": {},
   "outputs": [],
   "source": []
  },
  {
   "cell_type": "code",
   "execution_count": null,
   "id": "b15a7a8e-8fda-4a14-827d-1daf5e3fea41",
   "metadata": {},
   "outputs": [],
   "source": []
  },
  {
   "cell_type": "code",
   "execution_count": 303,
   "id": "9c7caafe-c532-44fa-860b-411459677488",
   "metadata": {
    "tags": []
   },
   "outputs": [
    {
     "data": {
      "text/plain": [
       "User_ID\n",
       "1000001     334093\n",
       "1000002     810472\n",
       "1000003     341635\n",
       "1000004     206468\n",
       "1000005     821001\n",
       "            ...   \n",
       "1006036    4116058\n",
       "1006037    1119538\n",
       "1006038      90034\n",
       "1006039     590319\n",
       "1006040    1653299\n",
       "Name: Purchase, Length: 5891, dtype: int64"
      ]
     },
     "execution_count": 303,
     "metadata": {},
     "output_type": "execute_result"
    }
   ],
   "source": [
    "df.groupby(\"User_ID\")[\"Purchase\"].sum()"
   ]
  },
  {
   "cell_type": "code",
   "execution_count": 302,
   "id": "0229712f-f9b9-4a38-b4b5-9fc6029ae68c",
   "metadata": {
    "tags": []
   },
   "outputs": [
    {
     "data": {
      "text/plain": [
       "<Axes: xlabel='Purchase', ylabel='Count'>"
      ]
     },
     "execution_count": 302,
     "metadata": {},
     "output_type": "execute_result"
    },
    {
     "data": {
      "image/png": "[encoded data removed]",
      "text/plain": [
       "<Figure size 1600x800 with 2 Axes>"
      ]
     },
     "metadata": {},
     "output_type": "display_data"
    }
   ],
   "source": [
    "fig=plt.figure(figsize=(16,8))\n",
    "plt.subplot(1,3,1)\n",
    "sns.histplot(df.groupby(\"User_ID\")[\"Purchase\"].sum())\n",
    "plt.subplot(1,3,2)\n",
    "sns.histplot(df.groupby([\"Gender\",\"User_ID\"])[\"Purchase\"].sum())"
   ]
  },
  {
   "cell_type": "code",
   "execution_count": 79,
   "id": "7bdff634-e83e-4d6b-9229-a75fae29ed4b",
   "metadata": {
    "tags": []
   },
   "outputs": [
    {
     "data": {
      "text/html": [
       "<div>\n",
       "<style scoped>\n",
       "    .dataframe tbody tr th:only-of-type {\n",
       "        vertical-align: middle;\n",
       "    }\n",
       "\n",
       "    .dataframe tbody tr th {\n",
       "        vertical-align: top;\n",
       "    }\n",
       "\n",
       "    .dataframe thead th {\n",
       "        text-align: right;\n",
       "    }\n",
       "</style>\n",
       "<table border=\"1\" class=\"dataframe\">\n",
       "  <thead>\n",
       "    <tr style=\"text-align: right;\">\n",
       "      <th></th>\n",
       "      <th>User_ID</th>\n",
       "      <th>Gender</th>\n",
       "      <th>Age</th>\n",
       "      <th>Occupation</th>\n",
       "      <th>City_Category</th>\n",
       "      <th>Stay_In_Current_City_Years</th>\n",
       "      <th>Marital_Status</th>\n",
       "      <th>Product_Category</th>\n",
       "      <th>Purchase</th>\n",
       "    </tr>\n",
       "    <tr>\n",
       "      <th>Product_ID</th>\n",
       "      <th></th>\n",
       "      <th></th>\n",
       "      <th></th>\n",
       "      <th></th>\n",
       "      <th></th>\n",
       "      <th></th>\n",
       "      <th></th>\n",
       "      <th></th>\n",
       "      <th></th>\n",
       "    </tr>\n",
       "  </thead>\n",
       "  <tbody>\n",
       "    <tr>\n",
       "      <th>P00000142</th>\n",
       "      <td>1152</td>\n",
       "      <td>1152</td>\n",
       "      <td>1152</td>\n",
       "      <td>1152</td>\n",
       "      <td>1152</td>\n",
       "      <td>1152</td>\n",
       "      <td>1152</td>\n",
       "      <td>1152</td>\n",
       "      <td>1152</td>\n",
       "    </tr>\n",
       "    <tr>\n",
       "      <th>P00000242</th>\n",
       "      <td>376</td>\n",
       "      <td>376</td>\n",
       "      <td>376</td>\n",
       "      <td>376</td>\n",
       "      <td>376</td>\n",
       "      <td>376</td>\n",
       "      <td>376</td>\n",
       "      <td>376</td>\n",
       "      <td>376</td>\n",
       "    </tr>\n",
       "    <tr>\n",
       "      <th>P00000342</th>\n",
       "      <td>244</td>\n",
       "      <td>244</td>\n",
       "      <td>244</td>\n",
       "      <td>244</td>\n",
       "      <td>244</td>\n",
       "      <td>244</td>\n",
       "      <td>244</td>\n",
       "      <td>244</td>\n",
       "      <td>244</td>\n",
       "    </tr>\n",
       "    <tr>\n",
       "      <th>P00000442</th>\n",
       "      <td>92</td>\n",
       "      <td>92</td>\n",
       "      <td>92</td>\n",
       "      <td>92</td>\n",
       "      <td>92</td>\n",
       "      <td>92</td>\n",
       "      <td>92</td>\n",
       "      <td>92</td>\n",
       "      <td>92</td>\n",
       "    </tr>\n",
       "    <tr>\n",
       "      <th>P00000542</th>\n",
       "      <td>149</td>\n",
       "      <td>149</td>\n",
       "      <td>149</td>\n",
       "      <td>149</td>\n",
       "      <td>149</td>\n",
       "      <td>149</td>\n",
       "      <td>149</td>\n",
       "      <td>149</td>\n",
       "      <td>149</td>\n",
       "    </tr>\n",
       "    <tr>\n",
       "      <th>...</th>\n",
       "      <td>...</td>\n",
       "      <td>...</td>\n",
       "      <td>...</td>\n",
       "      <td>...</td>\n",
       "      <td>...</td>\n",
       "      <td>...</td>\n",
       "      <td>...</td>\n",
       "      <td>...</td>\n",
       "      <td>...</td>\n",
       "    </tr>\n",
       "    <tr>\n",
       "      <th>P0099442</th>\n",
       "      <td>200</td>\n",
       "      <td>200</td>\n",
       "      <td>200</td>\n",
       "      <td>200</td>\n",
       "      <td>200</td>\n",
       "      <td>200</td>\n",
       "      <td>200</td>\n",
       "      <td>200</td>\n",
       "      <td>200</td>\n",
       "    </tr>\n",
       "    <tr>\n",
       "      <th>P0099642</th>\n",
       "      <td>13</td>\n",
       "      <td>13</td>\n",
       "      <td>13</td>\n",
       "      <td>13</td>\n",
       "      <td>13</td>\n",
       "      <td>13</td>\n",
       "      <td>13</td>\n",
       "      <td>13</td>\n",
       "      <td>13</td>\n",
       "    </tr>\n",
       "    <tr>\n",
       "      <th>P0099742</th>\n",
       "      <td>126</td>\n",
       "      <td>126</td>\n",
       "      <td>126</td>\n",
       "      <td>126</td>\n",
       "      <td>126</td>\n",
       "      <td>126</td>\n",
       "      <td>126</td>\n",
       "      <td>126</td>\n",
       "      <td>126</td>\n",
       "    </tr>\n",
       "    <tr>\n",
       "      <th>P0099842</th>\n",
       "      <td>102</td>\n",
       "      <td>102</td>\n",
       "      <td>102</td>\n",
       "      <td>102</td>\n",
       "      <td>102</td>\n",
       "      <td>102</td>\n",
       "      <td>102</td>\n",
       "      <td>102</td>\n",
       "      <td>102</td>\n",
       "    </tr>\n",
       "    <tr>\n",
       "      <th>P0099942</th>\n",
       "      <td>14</td>\n",
       "      <td>14</td>\n",
       "      <td>14</td>\n",
       "      <td>14</td>\n",
       "      <td>14</td>\n",
       "      <td>14</td>\n",
       "      <td>14</td>\n",
       "      <td>14</td>\n",
       "      <td>14</td>\n",
       "    </tr>\n",
       "  </tbody>\n",
       "</table>\n",
       "<p>3631 rows × 9 columns</p>\n",
       "</div>"
      ],
      "text/plain": [
       "            User_ID  Gender   Age  Occupation  City_Category  \\\n",
       "Product_ID                                                     \n",
       "P00000142      1152    1152  1152        1152           1152   \n",
       "P00000242       376     376   376         376            376   \n",
       "P00000342       244     244   244         244            244   \n",
       "P00000442        92      92    92          92             92   \n",
       "P00000542       149     149   149         149            149   \n",
       "...             ...     ...   ...         ...            ...   \n",
       "P0099442        200     200   200         200            200   \n",
       "P0099642         13      13    13          13             13   \n",
       "P0099742        126     126   126         126            126   \n",
       "P0099842        102     102   102         102            102   \n",
       "P0099942         14      14    14          14             14   \n",
       "\n",
       "            Stay_In_Current_City_Years  Marital_Status  Product_Category  \\\n",
       "Product_ID                                                                 \n",
       "P00000142                         1152            1152              1152   \n",
       "P00000242                          376             376               376   \n",
       "P00000342                          244             244               244   \n",
       "P00000442                           92              92                92   \n",
       "P00000542                          149             149               149   \n",
       "...                                ...             ...               ...   \n",
       "P0099442                           200             200               200   \n",
       "P0099642                            13              13                13   \n",
       "P0099742                           126             126               126   \n",
       "P0099842                           102             102               102   \n",
       "P0099942                            14              14                14   \n",
       "\n",
       "            Purchase  \n",
       "Product_ID            \n",
       "P00000142       1152  \n",
       "P00000242        376  \n",
       "P00000342        244  \n",
       "P00000442         92  \n",
       "P00000542        149  \n",
       "...              ...  \n",
       "P0099442         200  \n",
       "P0099642          13  \n",
       "P0099742         126  \n",
       "P0099842         102  \n",
       "P0099942          14  \n",
       "\n",
       "[3631 rows x 9 columns]"
      ]
     },
     "execution_count": 79,
     "metadata": {},
     "output_type": "execute_result"
    }
   ],
   "source": [
    "product_grp=df.groupby(\"Product_ID\").count()\n",
    "product_grp"
   ]
  },
  {
   "cell_type": "code",
   "execution_count": 154,
   "id": "0dc11241-b39e-47f5-97b6-3e64c8f4ea54",
   "metadata": {},
   "outputs": [
    {
     "data": {
      "text/plain": [
       "(array([0, 1, 2, 3, 4, 5, 6, 7, 8, 9]),\n",
       " [Text(0, 0, '(-11.949, 2406.9]'),\n",
       "  Text(1, 0, '(2406.9, 4801.8]'),\n",
       "  Text(2, 0, '(4801.8, 7196.7]'),\n",
       "  Text(3, 0, '(7196.7, 9591.6]'),\n",
       "  Text(4, 0, '(9591.6, 11986.5]'),\n",
       "  Text(5, 0, '(11986.5, 14381.4]'),\n",
       "  Text(6, 0, '(14381.4, 16776.3]'),\n",
       "  Text(7, 0, '(16776.3, 19171.2]'),\n",
       "  Text(8, 0, '(19171.2, 21566.1]'),\n",
       "  Text(9, 0, '(21566.1, 23961.0]')])"
      ]
     },
     "execution_count": 154,
     "metadata": {},
     "output_type": "execute_result"
    },
    {
     "data": {
      "image/png": "[encoded data removed]",
      "text/plain": [
       "<Figure size 640x480 with 1 Axes>"
      ]
     },
     "metadata": {},
     "output_type": "display_data"
    }
   ],
   "source": [
    "df[\"purchase_bin\"]=pd.cut(df[\"Purchase\"],bins=10)\n",
    "df.drop_duplicates(\"Product_ID\",keep=\"first\")\n",
    "sns.countplot(data=df,x=\"purchase_bin\")\n",
    "plt.xticks(rotation=90)"
   ]
  },
  {
   "cell_type": "markdown",
   "id": "e6769e86-eb77-4f72-87c4-2d4d469f9d32",
   "metadata": {},
   "source": [
    "### **Confidence Interval of 95% of male customers based on product and purchase amount**"
   ]
  },
  {
   "cell_type": "code",
   "execution_count": 334,
   "id": "81a066ba-132d-4ae0-a1b5-807be180f0bd",
   "metadata": {
    "tags": []
   },
   "outputs": [
    {
     "data": {
      "text/plain": [
       "User_ID\n",
       "1000002     810472\n",
       "1000003     341635\n",
       "1000004     206468\n",
       "1000005     821001\n",
       "1000007     234668\n",
       "            ...   \n",
       "1006030     737361\n",
       "1006032     517261\n",
       "1006033     501843\n",
       "1006034     197086\n",
       "1006040    1653299\n",
       "Name: Purchase, Length: 4225, dtype: int64"
      ]
     },
     "execution_count": 334,
     "metadata": {},
     "output_type": "execute_result"
    }
   ],
   "source": [
    "df_male=df[df[\"Gender\"]==\"M\"]\n",
    "df_sample=df_male.groupby(\"User_ID\")[\"Purchase\"].sum()\n",
    "df_sample"
   ]
  },
  {
   "cell_type": "code",
   "execution_count": 335,
   "id": "5d22326a-3b3a-4970-ab1b-9059782bd7c3",
   "metadata": {
    "tags": []
   },
   "outputs": [
    {
     "data": {
      "text/plain": [
       "User_ID\n",
       "1004277    10536909\n",
       "1001680     8699596\n",
       "1002909     7577756\n",
       "1001941     6817493\n",
       "1000424     6573609\n",
       "             ...   \n",
       "1004636       57805\n",
       "1003275       55960\n",
       "1002111       54536\n",
       "1003883       49349\n",
       "1000094       49288\n",
       "Name: Purchase, Length: 4225, dtype: int64"
      ]
     },
     "execution_count": 335,
     "metadata": {},
     "output_type": "execute_result"
    }
   ],
   "source": [
    "df_sample.sort_values(ascending=False)"
   ]
  },
  {
   "cell_type": "code",
   "execution_count": 339,
   "id": "f59bee5c-6931-478c-97b3-219140174e80",
   "metadata": {
    "tags": []
   },
   "outputs": [
    {
     "data": {
      "text/plain": [
       "<Axes: ylabel='Count'>"
      ]
     },
     "execution_count": 339,
     "metadata": {},
     "output_type": "execute_result"
    },
    {
     "data": {
      "image/png": "[encoded data removed]",
      "text/plain": [
       "<Figure size 640x480 with 1 Axes>"
      ]
     },
     "metadata": {},
     "output_type": "display_data"
    }
   ],
   "source": [
    "#creating samples and mean on the purchase column\n",
    "n=100\n",
    "sample_means_m=[df_sample.sample(n).mean() for i in range(1000)]\n",
    "sns.histplot(sample_means_m,kde=True)"
   ]
  },
  {
   "cell_type": "code",
   "execution_count": 337,
   "id": "3589da5e-140b-4968-a010-c8140bfabc13",
   "metadata": {
    "tags": []
   },
   "outputs": [
    {
     "data": {
      "text/plain": [
       "925344.4023668639"
      ]
     },
     "execution_count": 337,
     "metadata": {},
     "output_type": "execute_result"
    }
   ],
   "source": [
    "Average_m=df_sample.mean()\n",
    "Average_m"
   ]
  },
  {
   "cell_type": "code",
   "execution_count": 340,
   "id": "dc11e74c-17bc-4879-bbf9-bb19e54c9362",
   "metadata": {
    "tags": []
   },
   "outputs": [
    {
     "data": {
      "text/plain": [
       "929891.17903"
      ]
     },
     "execution_count": 340,
     "metadata": {},
     "output_type": "execute_result"
    }
   ],
   "source": [
    "Efficient_sample_mean_m=np.mean(sample_means_m)\n",
    "Efficient_sample_mean_m"
   ]
  },
  {
   "cell_type": "markdown",
   "id": "04d36296-1429-4888-8607-bed0eb816bf7",
   "metadata": {},
   "source": [
    "#### So the average purchase done by male customers with sample size 100 and with 1000 samplings is found to be around 929891 which is close to the actual mean."
   ]
  },
  {
   "cell_type": "code",
   "execution_count": 342,
   "id": "be9b97e8-2fae-4e64-8b0b-e917aa54ca75",
   "metadata": {
    "tags": []
   },
   "outputs": [
    {
     "data": {
      "text/plain": [
       "98571.34276071227"
      ]
     },
     "execution_count": 342,
     "metadata": {},
     "output_type": "execute_result"
    }
   ],
   "source": [
    "standard_dev_m=np.std(df_sample)\n",
    "standard_error_m=standard_dev_m/np.sqrt(n)\n",
    "standard_error_m"
   ]
  },
  {
   "cell_type": "markdown",
   "id": "d5a78981-6865-4a75-8ec1-7bbab87838a4",
   "metadata": {},
   "source": [
    "#### The standard error for the 1000 samples with size 100 is 98571.34"
   ]
  },
  {
   "cell_type": "markdown",
   "id": "d3ac2226-ffc7-4568-9972-23a1338ea1b6",
   "metadata": {},
   "source": [
    "### **Probability of male customers buying products worth more than 10000 from a random of 100 customers picked**"
   ]
  },
  {
   "cell_type": "code",
   "execution_count": 349,
   "id": "73bbbed6-4fee-4b95-a129-5f3b88c191e5",
   "metadata": {
    "tags": []
   },
   "outputs": [
    {
     "data": {
      "text/plain": [
       "0.9999999999998964"
      ]
     },
     "execution_count": 349,
     "metadata": {},
     "output_type": "execute_result"
    }
   ],
   "source": [
    "# calculating the Z-score\n",
    "# Let x be 10000 as we want to calculate the probability more than 10000 dollars worth\n",
    "x=300000\n",
    "z=(x-Average_m)/standard_error_m\n",
    "norm.cdf(1-z)"
   ]
  },
  {
   "cell_type": "code",
   "execution_count": 350,
   "id": "fd7404c4-3b31-4c03-933f-43f0207ba6c7",
   "metadata": {
    "tags": []
   },
   "outputs": [
    {
     "data": {
      "text/plain": [
       "0.5958515449642755"
      ]
     },
     "execution_count": 350,
     "metadata": {},
     "output_type": "execute_result"
    }
   ],
   "source": [
    "x=1000000\n",
    "z=(x-Average_m)/standard_error_m\n",
    "norm.cdf(1-z)"
   ]
  },
  {
   "cell_type": "code",
   "execution_count": 351,
   "id": "72d8603b-e02f-4116-8a8a-845e1320f271",
   "metadata": {
    "tags": []
   },
   "outputs": [
    {
     "data": {
      "text/plain": [
       "-1.9599639845400545"
      ]
     },
     "execution_count": 351,
     "metadata": {},
     "output_type": "execute_result"
    }
   ],
   "source": [
    "# for finding 95% confidence interval, let's find the x1 and x2 values.\n",
    "z1=norm.ppf(0.025)\n",
    "z1"
   ]
  },
  {
   "cell_type": "code",
   "execution_count": 352,
   "id": "08c4e2fc-220e-43aa-b403-c7b4cb8743c3",
   "metadata": {
    "tags": []
   },
   "outputs": [
    {
     "data": {
      "text/plain": [
       "1.959963984540054"
      ]
     },
     "execution_count": 352,
     "metadata": {},
     "output_type": "execute_result"
    }
   ],
   "source": [
    "z2=norm.ppf(1-0.025)\n",
    "z2"
   ]
  },
  {
   "cell_type": "code",
   "execution_count": 354,
   "id": "11ef14b5-4932-44ae-841d-8fcf7dbcda8a",
   "metadata": {
    "tags": []
   },
   "outputs": [
    {
     "data": {
      "text/plain": [
       "732148.1206481148"
      ]
     },
     "execution_count": 354,
     "metadata": {},
     "output_type": "execute_result"
    }
   ],
   "source": [
    "x1=(z1*standard_error_m)+Average_m\n",
    "x1"
   ]
  },
  {
   "cell_type": "code",
   "execution_count": 353,
   "id": "3d572f5e-88fe-4426-ae04-6574adfc13af",
   "metadata": {
    "tags": []
   },
   "outputs": [
    {
     "data": {
      "text/plain": [
       "1118540.684085613"
      ]
     },
     "execution_count": 353,
     "metadata": {},
     "output_type": "execute_result"
    }
   ],
   "source": [
    "x2=(z2*standard_error_m)+Average_m\n",
    "x2"
   ]
  },
  {
   "cell_type": "markdown",
   "id": "53305846-7a04-403e-9d75-98d31ca0e01a",
   "metadata": {
    "tags": []
   },
   "source": [
    "The confidence Interval for 95% male population spending range is [732148,1118540]\n",
    "\n",
    "So from the obtained confidence interval it is clear that, 95% of the female customers are spending with the a range 732148 and 1118540                                     "
   ]
  },
  {
   "cell_type": "markdown",
   "id": "aa364a9b-fcbd-4063-abc6-71f2bed6d39b",
   "metadata": {},
   "source": [
    "### **Confidence Interval of 95% of female customers based on product and the purchase amount**"
   ]
  },
  {
   "cell_type": "code",
   "execution_count": 311,
   "id": "a4884ed7-e747-49f5-92a3-d558d5ff3ba5",
   "metadata": {},
   "outputs": [
    {
     "data": {
      "text/plain": [
       "User_ID\n",
       "1000001     334093\n",
       "1000006     379930\n",
       "1000010    2169510\n",
       "1000011     557023\n",
       "1000016     150490\n",
       "            ...   \n",
       "1006035     956645\n",
       "1006036    4116058\n",
       "1006037    1119538\n",
       "1006038      90034\n",
       "1006039     590319\n",
       "Name: Purchase, Length: 1666, dtype: int64"
      ]
     },
     "execution_count": 311,
     "metadata": {},
     "output_type": "execute_result"
    }
   ],
   "source": [
    "df_female=df[df[\"Gender\"]==\"F\"]\n",
    "df_sample=df_female.groupby(\"User_ID\")[\"Purchase\"].sum()\n",
    "df_sample"
   ]
  },
  {
   "cell_type": "code",
   "execution_count": 313,
   "id": "962a02bd-84ff-4eef-82b9-2e3aa9b99570",
   "metadata": {},
   "outputs": [
    {
     "data": {
      "text/plain": [
       "User_ID\n",
       "1003539    6187094\n",
       "1003224    5673106\n",
       "1001088    5628655\n",
       "1001448    5136424\n",
       "1003292    4799461\n",
       "            ...   \n",
       "1003291      55372\n",
       "1005944      53996\n",
       "1004991      52371\n",
       "1005117      49668\n",
       "1004464      46681\n",
       "Name: Purchase, Length: 1666, dtype: int64"
      ]
     },
     "execution_count": 313,
     "metadata": {},
     "output_type": "execute_result"
    }
   ],
   "source": [
    "df_sample.sort_values(ascending=False)"
   ]
  },
  {
   "cell_type": "code",
   "execution_count": 320,
   "id": "bbfb149a-76d0-48c4-b681-3cb40fe6fb41",
   "metadata": {
    "tags": []
   },
   "outputs": [
    {
     "data": {
      "text/plain": [
       "<Axes: ylabel='Count'>"
      ]
     },
     "execution_count": 320,
     "metadata": {},
     "output_type": "execute_result"
    },
    {
     "data": {
      "image/png": "[encoded data removed]",
      "text/plain": [
       "<Figure size 640x480 with 1 Axes>"
      ]
     },
     "metadata": {},
     "output_type": "display_data"
    }
   ],
   "source": [
    "#creating samples and mean on the purchase column\n",
    "n=100\n",
    "sample_means_f=[df_sample.sample(n).mean() for i in range(1000)]\n",
    "sns.histplot(sample_means_f,kde=True)"
   ]
  },
  {
   "cell_type": "code",
   "execution_count": 315,
   "id": "a7129121-0581-4438-ad83-60397a28ad49",
   "metadata": {
    "tags": []
   },
   "outputs": [
    {
     "data": {
      "text/plain": [
       "712024.3949579832"
      ]
     },
     "execution_count": 315,
     "metadata": {},
     "output_type": "execute_result"
    }
   ],
   "source": [
    "Average_f=df_sample.mean()\n",
    "Average_f"
   ]
  },
  {
   "cell_type": "code",
   "execution_count": 322,
   "id": "42895946-6d44-412b-b4ba-6970c2352845",
   "metadata": {
    "tags": []
   },
   "outputs": [
    {
     "data": {
      "text/plain": [
       "711899.34149"
      ]
     },
     "execution_count": 322,
     "metadata": {},
     "output_type": "execute_result"
    }
   ],
   "source": [
    "Efficient_sample_mean_f=np.mean(sample_means_f)\n",
    "Efficient_sample_mean_f"
   ]
  },
  {
   "cell_type": "code",
   "execution_count": 323,
   "id": "31b437f3-039a-4263-9255-f4e5c730eff2",
   "metadata": {
    "tags": []
   },
   "outputs": [
    {
     "data": {
      "text/plain": [
       "80712.83816336752"
      ]
     },
     "execution_count": 323,
     "metadata": {},
     "output_type": "execute_result"
    }
   ],
   "source": [
    "standard_dev_f=np.std(df_sample)\n",
    "standard_error_f=standard_dev_f/np.sqrt(n)\n",
    "standard_error_f"
   ]
  },
  {
   "cell_type": "markdown",
   "id": "1b4e3070-e355-4f84-bd90-cfc9863e7edb",
   "metadata": {},
   "source": [
    "#### The standard error for 1000 samples with size 100 is around 80712.84"
   ]
  },
  {
   "cell_type": "markdown",
   "id": "a5121050-0445-420c-b400-fdf67f9d645c",
   "metadata": {},
   "source": [
    "#### **Probability of female customers buying products worth more than 10000 from a random of 100 customers picked**"
   ]
  },
  {
   "cell_type": "code",
   "execution_count": 328,
   "id": "70e6ebac-26c8-42ca-bf8e-caa953821d5b",
   "metadata": {
    "tags": []
   },
   "outputs": [
    {
     "data": {
      "text/plain": [
       "0.9999994301942449"
      ]
     },
     "execution_count": 328,
     "metadata": {},
     "output_type": "execute_result"
    }
   ],
   "source": [
    "# calculating the Z-score\n",
    "# Let x be 10000 as we want to calculate the probability more than 10000 dollars worth\n",
    "x=400000\n",
    "z=(x-Average_f)/standard_error_f\n",
    "norm.cdf(1-z)"
   ]
  },
  {
   "cell_type": "markdown",
   "id": "98a28aeb-db7e-4d7a-b35e-7ebb83cd166b",
   "metadata": {},
   "source": [
    "99.99% of female customers are spending more than 400000 on an average."
   ]
  },
  {
   "cell_type": "code",
   "execution_count": 329,
   "id": "fb60ed63-488b-4551-89c4-3b64c886bfd8",
   "metadata": {
    "tags": []
   },
   "outputs": [
    {
     "data": {
      "text/plain": [
       "0.00511578405576325"
      ]
     },
     "execution_count": 329,
     "metadata": {},
     "output_type": "execute_result"
    }
   ],
   "source": [
    "x=1000000\n",
    "z=(x-Average_f)/standard_error_f\n",
    "norm.cdf(1-z)"
   ]
  },
  {
   "cell_type": "markdown",
   "id": "78ad65e4-511f-4643-9844-eb3c102463dd",
   "metadata": {},
   "source": [
    "whereas only 0.5% of the female customers are spending more than 1000000"
   ]
  },
  {
   "cell_type": "code",
   "execution_count": 330,
   "id": "7cd62bda-3f92-4fb7-9b84-e9119f389f21",
   "metadata": {
    "tags": []
   },
   "outputs": [
    {
     "data": {
      "text/plain": [
       "-1.9599639845400545"
      ]
     },
     "execution_count": 330,
     "metadata": {},
     "output_type": "execute_result"
    }
   ],
   "source": [
    "# for finding 95% confidence interval, let's find the x1 and x2 values.\n",
    "z1=norm.ppf(0.025)\n",
    "z1"
   ]
  },
  {
   "cell_type": "code",
   "execution_count": 331,
   "id": "c43841ca-2d54-4566-9c73-ad4dbddb50af",
   "metadata": {
    "tags": []
   },
   "outputs": [
    {
     "data": {
      "text/plain": [
       "1.959963984540054"
      ]
     },
     "execution_count": 331,
     "metadata": {},
     "output_type": "execute_result"
    }
   ],
   "source": [
    "z2=norm.ppf(1-0.025)\n",
    "z2"
   ]
  },
  {
   "cell_type": "code",
   "execution_count": 332,
   "id": "3387b04b-0c19-47d4-b0b7-8fa1548a927a",
   "metadata": {
    "tags": []
   },
   "outputs": [
    {
     "data": {
      "text/plain": [
       "553830.1390677728"
      ]
     },
     "execution_count": 332,
     "metadata": {},
     "output_type": "execute_result"
    }
   ],
   "source": [
    "x1=(z1*standard_error_f)+Average_f\n",
    "x1"
   ]
  },
  {
   "cell_type": "code",
   "execution_count": 333,
   "id": "31878427-f2dd-4769-9bdf-6bfbb10c8918",
   "metadata": {
    "tags": []
   },
   "outputs": [
    {
     "data": {
      "text/plain": [
       "870218.6508481936"
      ]
     },
     "execution_count": 333,
     "metadata": {},
     "output_type": "execute_result"
    }
   ],
   "source": [
    "x2=(z2*standard_error_f)+Average_f\n",
    "x2"
   ]
  },
  {
   "cell_type": "markdown",
   "id": "73f730f0-8663-4af8-8302-bc710f37e13a",
   "metadata": {},
   "source": [
    "The confidence Interval for 95% female population buying products range from purchase amount is [553830,870218]\n",
    "\n",
    "So from the obtained confidence interval it is clear that, 95% of the female customers are spending with the a range 553830 and 870218"
   ]
  },
  {
   "cell_type": "code",
   "execution_count": 203,
   "id": "87d24917-7485-4d01-a71c-5378fd4e087c",
   "metadata": {
    "tags": []
   },
   "outputs": [
    {
     "data": {
      "text/plain": [
       "14848     P00000142\n",
       "28496     P00000242\n",
       "142004    P00000342\n",
       "415824    P00000442\n",
       "157501    P00000542\n",
       "            ...    \n",
       "6618       P0099342\n",
       "142461     P0099442\n",
       "228910     P0099642\n",
       "44160      P0099742\n",
       "93097      P0099842\n",
       "Name: Product_ID, Length: 2500, dtype: object"
      ]
     },
     "execution_count": 203,
     "metadata": {},
     "output_type": "execute_result"
    }
   ],
   "source": [
    "# Now let's find the products that has the purchase amount within the range of [7413,10055]\n",
    "\n",
    "product_female=df_female[(df_female[\"Purchase\"]>=7413) & (df_female[\"Purchase\"]<=10055)]\n",
    "product_female=product_female.drop_duplicates(subset=[\"Product_ID\"])\n",
    "product_female[\"Product_ID\"].sort_values(ascending=True)    "
   ]
  },
  {
   "cell_type": "markdown",
   "id": "a3bcf928-05a4-4d76-b2a4-dcbdd0755f9b",
   "metadata": {},
   "source": [
    "* 95% of the time when a female customer wants to purchase anything, that will be under this above product ids list."
   ]
  },
  {
   "cell_type": "markdown",
   "id": "afef0409-bd58-4217-b489-d7494b33c7a5",
   "metadata": {},
   "source": [
    "## **Confidence Interval of 95% of overall population based on product and the purchase amount**"
   ]
  },
  {
   "cell_type": "code",
   "execution_count": 188,
   "id": "d7c73666-da7a-45d8-80cb-e136b3fd8b92",
   "metadata": {
    "tags": []
   },
   "outputs": [
    {
     "data": {
      "text/html": [
       "<div>\n",
       "<style scoped>\n",
       "    .dataframe tbody tr th:only-of-type {\n",
       "        vertical-align: middle;\n",
       "    }\n",
       "\n",
       "    .dataframe tbody tr th {\n",
       "        vertical-align: top;\n",
       "    }\n",
       "\n",
       "    .dataframe thead th {\n",
       "        text-align: right;\n",
       "    }\n",
       "</style>\n",
       "<table border=\"1\" class=\"dataframe\">\n",
       "  <thead>\n",
       "    <tr style=\"text-align: right;\">\n",
       "      <th></th>\n",
       "      <th>User_ID</th>\n",
       "      <th>Product_ID</th>\n",
       "      <th>Gender</th>\n",
       "      <th>Age</th>\n",
       "      <th>Occupation</th>\n",
       "      <th>City_Category</th>\n",
       "      <th>Stay_In_Current_City_Years</th>\n",
       "      <th>Marital_Status</th>\n",
       "      <th>Product_Category</th>\n",
       "      <th>Purchase</th>\n",
       "      <th>purchase_bin</th>\n",
       "    </tr>\n",
       "  </thead>\n",
       "  <tbody>\n",
       "    <tr>\n",
       "      <th>0</th>\n",
       "      <td>1000001</td>\n",
       "      <td>P00069042</td>\n",
       "      <td>F</td>\n",
       "      <td>0-17</td>\n",
       "      <td>10</td>\n",
       "      <td>A</td>\n",
       "      <td>2</td>\n",
       "      <td>0</td>\n",
       "      <td>3</td>\n",
       "      <td>8370</td>\n",
       "      <td>(7196.7, 9591.6]</td>\n",
       "    </tr>\n",
       "    <tr>\n",
       "      <th>1</th>\n",
       "      <td>1000001</td>\n",
       "      <td>P00248942</td>\n",
       "      <td>F</td>\n",
       "      <td>0-17</td>\n",
       "      <td>10</td>\n",
       "      <td>A</td>\n",
       "      <td>2</td>\n",
       "      <td>0</td>\n",
       "      <td>1</td>\n",
       "      <td>15200</td>\n",
       "      <td>(14381.4, 16776.3]</td>\n",
       "    </tr>\n",
       "    <tr>\n",
       "      <th>2</th>\n",
       "      <td>1000001</td>\n",
       "      <td>P00087842</td>\n",
       "      <td>F</td>\n",
       "      <td>0-17</td>\n",
       "      <td>10</td>\n",
       "      <td>A</td>\n",
       "      <td>2</td>\n",
       "      <td>0</td>\n",
       "      <td>12</td>\n",
       "      <td>1422</td>\n",
       "      <td>(-11.949, 2406.9]</td>\n",
       "    </tr>\n",
       "    <tr>\n",
       "      <th>3</th>\n",
       "      <td>1000001</td>\n",
       "      <td>P00085442</td>\n",
       "      <td>F</td>\n",
       "      <td>0-17</td>\n",
       "      <td>10</td>\n",
       "      <td>A</td>\n",
       "      <td>2</td>\n",
       "      <td>0</td>\n",
       "      <td>12</td>\n",
       "      <td>1057</td>\n",
       "      <td>(-11.949, 2406.9]</td>\n",
       "    </tr>\n",
       "    <tr>\n",
       "      <th>4</th>\n",
       "      <td>1000002</td>\n",
       "      <td>P00285442</td>\n",
       "      <td>M</td>\n",
       "      <td>55+</td>\n",
       "      <td>16</td>\n",
       "      <td>C</td>\n",
       "      <td>4+</td>\n",
       "      <td>0</td>\n",
       "      <td>8</td>\n",
       "      <td>7969</td>\n",
       "      <td>(7196.7, 9591.6]</td>\n",
       "    </tr>\n",
       "    <tr>\n",
       "      <th>...</th>\n",
       "      <td>...</td>\n",
       "      <td>...</td>\n",
       "      <td>...</td>\n",
       "      <td>...</td>\n",
       "      <td>...</td>\n",
       "      <td>...</td>\n",
       "      <td>...</td>\n",
       "      <td>...</td>\n",
       "      <td>...</td>\n",
       "      <td>...</td>\n",
       "      <td>...</td>\n",
       "    </tr>\n",
       "    <tr>\n",
       "      <th>550063</th>\n",
       "      <td>1006033</td>\n",
       "      <td>P00372445</td>\n",
       "      <td>M</td>\n",
       "      <td>51-55</td>\n",
       "      <td>13</td>\n",
       "      <td>B</td>\n",
       "      <td>1</td>\n",
       "      <td>1</td>\n",
       "      <td>20</td>\n",
       "      <td>368</td>\n",
       "      <td>(-11.949, 2406.9]</td>\n",
       "    </tr>\n",
       "    <tr>\n",
       "      <th>550064</th>\n",
       "      <td>1006035</td>\n",
       "      <td>P00375436</td>\n",
       "      <td>F</td>\n",
       "      <td>26-35</td>\n",
       "      <td>1</td>\n",
       "      <td>C</td>\n",
       "      <td>3</td>\n",
       "      <td>0</td>\n",
       "      <td>20</td>\n",
       "      <td>371</td>\n",
       "      <td>(-11.949, 2406.9]</td>\n",
       "    </tr>\n",
       "    <tr>\n",
       "      <th>550065</th>\n",
       "      <td>1006036</td>\n",
       "      <td>P00375436</td>\n",
       "      <td>F</td>\n",
       "      <td>26-35</td>\n",
       "      <td>15</td>\n",
       "      <td>B</td>\n",
       "      <td>4+</td>\n",
       "      <td>1</td>\n",
       "      <td>20</td>\n",
       "      <td>137</td>\n",
       "      <td>(-11.949, 2406.9]</td>\n",
       "    </tr>\n",
       "    <tr>\n",
       "      <th>550066</th>\n",
       "      <td>1006038</td>\n",
       "      <td>P00375436</td>\n",
       "      <td>F</td>\n",
       "      <td>55+</td>\n",
       "      <td>1</td>\n",
       "      <td>C</td>\n",
       "      <td>2</td>\n",
       "      <td>0</td>\n",
       "      <td>20</td>\n",
       "      <td>365</td>\n",
       "      <td>(-11.949, 2406.9]</td>\n",
       "    </tr>\n",
       "    <tr>\n",
       "      <th>550067</th>\n",
       "      <td>1006039</td>\n",
       "      <td>P00371644</td>\n",
       "      <td>F</td>\n",
       "      <td>46-50</td>\n",
       "      <td>0</td>\n",
       "      <td>B</td>\n",
       "      <td>4+</td>\n",
       "      <td>1</td>\n",
       "      <td>20</td>\n",
       "      <td>490</td>\n",
       "      <td>(-11.949, 2406.9]</td>\n",
       "    </tr>\n",
       "  </tbody>\n",
       "</table>\n",
       "<p>550068 rows × 11 columns</p>\n",
       "</div>"
      ],
      "text/plain": [
       "        User_ID Product_ID Gender    Age  Occupation City_Category  \\\n",
       "0       1000001  P00069042      F   0-17          10             A   \n",
       "1       1000001  P00248942      F   0-17          10             A   \n",
       "2       1000001  P00087842      F   0-17          10             A   \n",
       "3       1000001  P00085442      F   0-17          10             A   \n",
       "4       1000002  P00285442      M    55+          16             C   \n",
       "...         ...        ...    ...    ...         ...           ...   \n",
       "550063  1006033  P00372445      M  51-55          13             B   \n",
       "550064  1006035  P00375436      F  26-35           1             C   \n",
       "550065  1006036  P00375436      F  26-35          15             B   \n",
       "550066  1006038  P00375436      F    55+           1             C   \n",
       "550067  1006039  P00371644      F  46-50           0             B   \n",
       "\n",
       "       Stay_In_Current_City_Years  Marital_Status  Product_Category  Purchase  \\\n",
       "0                               2               0                 3      8370   \n",
       "1                               2               0                 1     15200   \n",
       "2                               2               0                12      1422   \n",
       "3                               2               0                12      1057   \n",
       "4                              4+               0                 8      7969   \n",
       "...                           ...             ...               ...       ...   \n",
       "550063                          1               1                20       368   \n",
       "550064                          3               0                20       371   \n",
       "550065                         4+               1                20       137   \n",
       "550066                          2               0                20       365   \n",
       "550067                         4+               1                20       490   \n",
       "\n",
       "              purchase_bin  \n",
       "0         (7196.7, 9591.6]  \n",
       "1       (14381.4, 16776.3]  \n",
       "2        (-11.949, 2406.9]  \n",
       "3        (-11.949, 2406.9]  \n",
       "4         (7196.7, 9591.6]  \n",
       "...                    ...  \n",
       "550063   (-11.949, 2406.9]  \n",
       "550064   (-11.949, 2406.9]  \n",
       "550065   (-11.949, 2406.9]  \n",
       "550066   (-11.949, 2406.9]  \n",
       "550067   (-11.949, 2406.9]  \n",
       "\n",
       "[550068 rows x 11 columns]"
      ]
     },
     "execution_count": 188,
     "metadata": {},
     "output_type": "execute_result"
    }
   ],
   "source": [
    "df"
   ]
  },
  {
   "cell_type": "code",
   "execution_count": 189,
   "id": "0400715d-821b-4458-b088-ee551c9a13f7",
   "metadata": {
    "tags": []
   },
   "outputs": [
    {
     "data": {
      "text/plain": [
       "370891    23961\n",
       "93016     23961\n",
       "87440     23961\n",
       "503697    23960\n",
       "321782    23960\n",
       "          ...  \n",
       "546379       12\n",
       "546185       12\n",
       "547032       12\n",
       "546181       12\n",
       "549221       12\n",
       "Name: Purchase, Length: 550068, dtype: int64"
      ]
     },
     "execution_count": 189,
     "metadata": {},
     "output_type": "execute_result"
    }
   ],
   "source": [
    "df[\"Purchase\"].sort_values(ascending=False)"
   ]
  },
  {
   "cell_type": "code",
   "execution_count": 190,
   "id": "7f401429-1648-4965-a557-c28ef6bda834",
   "metadata": {
    "tags": []
   },
   "outputs": [
    {
     "data": {
      "text/plain": [
       "<Axes: ylabel='Count'>"
      ]
     },
     "execution_count": 190,
     "metadata": {},
     "output_type": "execute_result"
    },
    {
     "data": {
      "image/png": "[encoded data removed]",
      "text/plain": [
       "<Figure size 640x480 with 1 Axes>"
      ]
     },
     "metadata": {},
     "output_type": "display_data"
    }
   ],
   "source": [
    "#creating samples and mean on the purchase column\n",
    "n=50\n",
    "sample_means=[df[\"Purchase\"].sample(n).mean() for i in range(1000)]\n",
    "sns.histplot(sample_means_f,kde=True)"
   ]
  },
  {
   "cell_type": "code",
   "execution_count": 192,
   "id": "42b6d0cf-802c-4d17-9fc5-629ab2023bb8",
   "metadata": {
    "tags": []
   },
   "outputs": [
    {
     "data": {
      "text/plain": [
       "9263.968712959126"
      ]
     },
     "execution_count": 192,
     "metadata": {},
     "output_type": "execute_result"
    }
   ],
   "source": [
    "Average=df[\"Purchase\"].mean()\n",
    "Average"
   ]
  },
  {
   "cell_type": "code",
   "execution_count": 193,
   "id": "94bd9ffd-6c20-4869-a7e1-ce9749fc8566",
   "metadata": {
    "tags": []
   },
   "outputs": [
    {
     "data": {
      "text/plain": [
       "9249.35944"
      ]
     },
     "execution_count": 193,
     "metadata": {},
     "output_type": "execute_result"
    }
   ],
   "source": [
    "Efficient_sample_mean=np.mean(sample_means)\n",
    "Efficient_sample_mean"
   ]
  },
  {
   "cell_type": "code",
   "execution_count": 194,
   "id": "2b61bc43-748d-43b6-bde1-75ce7e830e2d",
   "metadata": {
    "tags": []
   },
   "outputs": [
    {
     "data": {
      "text/plain": [
       "710.368074752602"
      ]
     },
     "execution_count": 194,
     "metadata": {},
     "output_type": "execute_result"
    }
   ],
   "source": [
    "standard_dev=np.std(df[\"Purchase\"])\n",
    "standard_error=standard_dev/np.sqrt(n)\n",
    "standard_error"
   ]
  },
  {
   "cell_type": "markdown",
   "id": "cf7927dc-f62f-4492-b974-044f24c9a2fa",
   "metadata": {},
   "source": [
    "#### The standard error for 1000 samples with size 50 is around 710"
   ]
  },
  {
   "cell_type": "markdown",
   "id": "a51de75a-d411-42db-9e11-7aa61026d2d1",
   "metadata": {},
   "source": [
    "#### **Probability of customers buying products worth more than 10000 from a random of 50 customers picked**"
   ]
  },
  {
   "cell_type": "code",
   "execution_count": 196,
   "id": "741a88b7-81b5-4b99-9a12-82c987dfd738",
   "metadata": {
    "tags": []
   },
   "outputs": [
    {
     "data": {
      "text/plain": [
       "0.9999999999987427"
      ]
     },
     "execution_count": 196,
     "metadata": {},
     "output_type": "execute_result"
    }
   ],
   "source": [
    "# calculating the Z-score\n",
    "# Let x be 10000 as we want to calculate the probability more than 10000 dollars worth\n",
    "x=5000\n",
    "z=(x-Average)/standard_error\n",
    "norm.cdf(1-z)"
   ]
  },
  {
   "cell_type": "markdown",
   "id": "938b4ec8-e799-409d-916e-27ee4db7df28",
   "metadata": {
    "tags": []
   },
   "source": [
    "From the purchase amount 5000 onwards 99.99% of customers are buying products."
   ]
  },
  {
   "cell_type": "code",
   "execution_count": 198,
   "id": "e1d43d8e-b62f-436f-8258-f5ef54011721",
   "metadata": {
    "tags": []
   },
   "outputs": [
    {
     "data": {
      "text/plain": [
       "0.48559068994240306"
      ]
     },
     "execution_count": 198,
     "metadata": {},
     "output_type": "execute_result"
    }
   ],
   "source": [
    "x=10000\n",
    "z=(x-Average)/standard_error\n",
    "norm.cdf(1-z)"
   ]
  },
  {
   "cell_type": "markdown",
   "id": "f5616f75-9207-4c8a-bae9-49364a97b99b",
   "metadata": {},
   "source": [
    "whereas only 48% of the customers are tend to buy products that are worth more than 10000, which means the percentage is impacted because of the low percentage of female customer who buy products > 10000"
   ]
  },
  {
   "cell_type": "code",
   "execution_count": 199,
   "id": "b3c94040-797a-460f-a8f0-23b2fe73b00f",
   "metadata": {
    "tags": []
   },
   "outputs": [
    {
     "data": {
      "text/plain": [
       "-1.9599639845400545"
      ]
     },
     "execution_count": 199,
     "metadata": {},
     "output_type": "execute_result"
    }
   ],
   "source": [
    "# for finding 95% confidence interval, let's find the x1 and x2 values.\n",
    "z1=norm.ppf(0.025)\n",
    "z1"
   ]
  },
  {
   "cell_type": "code",
   "execution_count": 200,
   "id": "0ce18c8d-ae70-45d3-bbb3-cc852b53d852",
   "metadata": {},
   "outputs": [
    {
     "data": {
      "text/plain": [
       "1.959963984540054"
      ]
     },
     "execution_count": 200,
     "metadata": {},
     "output_type": "execute_result"
    }
   ],
   "source": [
    "z2=norm.ppf(1-0.025)\n",
    "z2"
   ]
  },
  {
   "cell_type": "code",
   "execution_count": 201,
   "id": "155018e1-402b-438d-8af1-c33977becbd0",
   "metadata": {
    "tags": []
   },
   "outputs": [
    {
     "data": {
      "text/plain": [
       "7871.672870676968"
      ]
     },
     "execution_count": 201,
     "metadata": {},
     "output_type": "execute_result"
    }
   ],
   "source": [
    "x1=(z1*standard_error)+Average\n",
    "x1"
   ]
  },
  {
   "cell_type": "code",
   "execution_count": 202,
   "id": "a85c6028-e97e-4062-8769-fef7aad3bf7a",
   "metadata": {
    "tags": []
   },
   "outputs": [
    {
     "data": {
      "text/plain": [
       "10055.94626971902"
      ]
     },
     "execution_count": 202,
     "metadata": {},
     "output_type": "execute_result"
    }
   ],
   "source": [
    "x2=(z2*standard_error_f)+Average_f\n",
    "x2"
   ]
  },
  {
   "cell_type": "markdown",
   "id": "3c9ced6e-3d60-407a-964e-011169974eef",
   "metadata": {},
   "source": [
    "The confidence Interval for 95% overall population buying products range from purchase amount is [7871,10055]\n",
    "\n",
    "So from the obtained confidence interval it is clear that, 95% of the customers are buying product with purchase amount range 7871 and 10055"
   ]
  },
  {
   "cell_type": "code",
   "execution_count": null,
   "id": "5a0235de-7e6c-4e8e-a4ce-b516f888bc16",
   "metadata": {},
   "outputs": [],
   "source": [
    "# Now let's find the products that has the purchase amount within the range of [7413,10055]\n",
    "\n",
    "product=df[(df[\"Purchase\"]>=7413) & (df[\"Purchase\"]<=10055)]\n",
    "product=product_male.drop_duplicates(subset=[\"Product_ID\"])\n",
    "product[\"Product_ID\"].sort_values(ascending=True)  "
   ]
  },
  {
   "cell_type": "markdown",
   "id": "8f599bfa-e9e2-4ceb-8259-a97eba913d8f",
   "metadata": {},
   "source": [
    "### **Confidence Interval of 99% of overall population based on product and the purchase amount**"
   ]
  },
  {
   "cell_type": "code",
   "execution_count": 249,
   "id": "3d4e0d73-ceac-42ea-a065-c8c1cbdb673c",
   "metadata": {
    "tags": []
   },
   "outputs": [
    {
     "data": {
      "text/plain": [
       "-2.575829303548901"
      ]
     },
     "execution_count": 249,
     "metadata": {},
     "output_type": "execute_result"
    }
   ],
   "source": [
    "z1=norm.ppf(0.005)\n",
    "z1"
   ]
  },
  {
   "cell_type": "code",
   "execution_count": 250,
   "id": "c3ad471a-04db-4aa5-917a-5cdf8c94442d",
   "metadata": {
    "tags": []
   },
   "outputs": [
    {
     "data": {
      "text/plain": [
       "2.5758293035489004"
      ]
     },
     "execution_count": 250,
     "metadata": {},
     "output_type": "execute_result"
    }
   ],
   "source": [
    "z2=norm.ppf(1-0.005)\n",
    "z2"
   ]
  },
  {
   "cell_type": "code",
   "execution_count": 251,
   "id": "b108e3fb-a69f-405b-8df6-e07b063b4073",
   "metadata": {
    "tags": []
   },
   "outputs": [
    {
     "data": {
      "text/plain": [
       "7434.181809705758"
      ]
     },
     "execution_count": 251,
     "metadata": {},
     "output_type": "execute_result"
    }
   ],
   "source": [
    "x1=(z1*standard_error)+Average\n",
    "x1"
   ]
  },
  {
   "cell_type": "code",
   "execution_count": 252,
   "id": "10e4d250-dd71-4628-aeed-16f0d0df9574",
   "metadata": {
    "tags": []
   },
   "outputs": [
    {
     "data": {
      "text/plain": [
       "11093.755616212493"
      ]
     },
     "execution_count": 252,
     "metadata": {},
     "output_type": "execute_result"
    }
   ],
   "source": [
    "x2=(z2*standard_error)+Average\n",
    "x2"
   ]
  },
  {
   "cell_type": "markdown",
   "id": "ee28e39e-4ddb-4bef-96cb-ac7bdfc24f0d",
   "metadata": {},
   "source": [
    "So from the obtained confidence interval it is clear that, 99% of the customers are buying product with purchase amount range 7434 and 10656"
   ]
  },
  {
   "cell_type": "code",
   "execution_count": null,
   "id": "5d077e36-7696-46fd-96b1-4d982fd10f98",
   "metadata": {},
   "outputs": [],
   "source": []
  },
  {
   "cell_type": "code",
   "execution_count": null,
   "id": "4fc709b5-ffeb-4282-a274-81f7e9fd838e",
   "metadata": {},
   "outputs": [],
   "source": []
  },
  {
   "cell_type": "markdown",
   "id": "d43a462b-7ae9-4ec6-a09f-95185076834b",
   "metadata": {},
   "source": [
    "### **Confidence Interval of 99% of customers based on marital status.**"
   ]
  },
  {
   "cell_type": "markdown",
   "id": "086b8176-4d4b-4e75-a46a-9eecf774b5a4",
   "metadata": {
    "tags": []
   },
   "source": [
    "#### **Calculate Confidence Interval for unmarried customers**"
   ]
  },
  {
   "cell_type": "code",
   "execution_count": 254,
   "id": "edc62c09-449a-4af9-8c22-8ef0b080b638",
   "metadata": {},
   "outputs": [
    {
     "data": {
      "text/html": [
       "<div>\n",
       "<style scoped>\n",
       "    .dataframe tbody tr th:only-of-type {\n",
       "        vertical-align: middle;\n",
       "    }\n",
       "\n",
       "    .dataframe tbody tr th {\n",
       "        vertical-align: top;\n",
       "    }\n",
       "\n",
       "    .dataframe thead th {\n",
       "        text-align: right;\n",
       "    }\n",
       "</style>\n",
       "<table border=\"1\" class=\"dataframe\">\n",
       "  <thead>\n",
       "    <tr style=\"text-align: right;\">\n",
       "      <th></th>\n",
       "      <th>User_ID</th>\n",
       "      <th>Product_ID</th>\n",
       "      <th>Gender</th>\n",
       "      <th>Age</th>\n",
       "      <th>Occupation</th>\n",
       "      <th>City_Category</th>\n",
       "      <th>Stay_In_Current_City_Years</th>\n",
       "      <th>Marital_Status</th>\n",
       "      <th>Product_Category</th>\n",
       "      <th>Purchase</th>\n",
       "      <th>purchase_bin</th>\n",
       "    </tr>\n",
       "  </thead>\n",
       "  <tbody>\n",
       "    <tr>\n",
       "      <th>6</th>\n",
       "      <td>1000004</td>\n",
       "      <td>P00184942</td>\n",
       "      <td>M</td>\n",
       "      <td>46-50</td>\n",
       "      <td>7</td>\n",
       "      <td>B</td>\n",
       "      <td>2</td>\n",
       "      <td>1</td>\n",
       "      <td>1</td>\n",
       "      <td>19215</td>\n",
       "      <td>(19171.2, 21566.1]</td>\n",
       "    </tr>\n",
       "    <tr>\n",
       "      <th>7</th>\n",
       "      <td>1000004</td>\n",
       "      <td>P00346142</td>\n",
       "      <td>M</td>\n",
       "      <td>46-50</td>\n",
       "      <td>7</td>\n",
       "      <td>B</td>\n",
       "      <td>2</td>\n",
       "      <td>1</td>\n",
       "      <td>1</td>\n",
       "      <td>15854</td>\n",
       "      <td>(14381.4, 16776.3]</td>\n",
       "    </tr>\n",
       "    <tr>\n",
       "      <th>8</th>\n",
       "      <td>1000004</td>\n",
       "      <td>P0097242</td>\n",
       "      <td>M</td>\n",
       "      <td>46-50</td>\n",
       "      <td>7</td>\n",
       "      <td>B</td>\n",
       "      <td>2</td>\n",
       "      <td>1</td>\n",
       "      <td>1</td>\n",
       "      <td>15686</td>\n",
       "      <td>(14381.4, 16776.3]</td>\n",
       "    </tr>\n",
       "    <tr>\n",
       "      <th>9</th>\n",
       "      <td>1000005</td>\n",
       "      <td>P00274942</td>\n",
       "      <td>M</td>\n",
       "      <td>26-35</td>\n",
       "      <td>20</td>\n",
       "      <td>A</td>\n",
       "      <td>1</td>\n",
       "      <td>1</td>\n",
       "      <td>8</td>\n",
       "      <td>7871</td>\n",
       "      <td>(7196.7, 9591.6]</td>\n",
       "    </tr>\n",
       "    <tr>\n",
       "      <th>10</th>\n",
       "      <td>1000005</td>\n",
       "      <td>P00251242</td>\n",
       "      <td>M</td>\n",
       "      <td>26-35</td>\n",
       "      <td>20</td>\n",
       "      <td>A</td>\n",
       "      <td>1</td>\n",
       "      <td>1</td>\n",
       "      <td>5</td>\n",
       "      <td>5254</td>\n",
       "      <td>(4801.8, 7196.7]</td>\n",
       "    </tr>\n",
       "    <tr>\n",
       "      <th>...</th>\n",
       "      <td>...</td>\n",
       "      <td>...</td>\n",
       "      <td>...</td>\n",
       "      <td>...</td>\n",
       "      <td>...</td>\n",
       "      <td>...</td>\n",
       "      <td>...</td>\n",
       "      <td>...</td>\n",
       "      <td>...</td>\n",
       "      <td>...</td>\n",
       "      <td>...</td>\n",
       "    </tr>\n",
       "    <tr>\n",
       "      <th>550060</th>\n",
       "      <td>1006026</td>\n",
       "      <td>P00371644</td>\n",
       "      <td>M</td>\n",
       "      <td>36-45</td>\n",
       "      <td>6</td>\n",
       "      <td>C</td>\n",
       "      <td>1</td>\n",
       "      <td>1</td>\n",
       "      <td>20</td>\n",
       "      <td>494</td>\n",
       "      <td>(-11.949, 2406.9]</td>\n",
       "    </tr>\n",
       "    <tr>\n",
       "      <th>550061</th>\n",
       "      <td>1006029</td>\n",
       "      <td>P00372445</td>\n",
       "      <td>F</td>\n",
       "      <td>26-35</td>\n",
       "      <td>1</td>\n",
       "      <td>C</td>\n",
       "      <td>1</td>\n",
       "      <td>1</td>\n",
       "      <td>20</td>\n",
       "      <td>599</td>\n",
       "      <td>(-11.949, 2406.9]</td>\n",
       "    </tr>\n",
       "    <tr>\n",
       "      <th>550063</th>\n",
       "      <td>1006033</td>\n",
       "      <td>P00372445</td>\n",
       "      <td>M</td>\n",
       "      <td>51-55</td>\n",
       "      <td>13</td>\n",
       "      <td>B</td>\n",
       "      <td>1</td>\n",
       "      <td>1</td>\n",
       "      <td>20</td>\n",
       "      <td>368</td>\n",
       "      <td>(-11.949, 2406.9]</td>\n",
       "    </tr>\n",
       "    <tr>\n",
       "      <th>550065</th>\n",
       "      <td>1006036</td>\n",
       "      <td>P00375436</td>\n",
       "      <td>F</td>\n",
       "      <td>26-35</td>\n",
       "      <td>15</td>\n",
       "      <td>B</td>\n",
       "      <td>4+</td>\n",
       "      <td>1</td>\n",
       "      <td>20</td>\n",
       "      <td>137</td>\n",
       "      <td>(-11.949, 2406.9]</td>\n",
       "    </tr>\n",
       "    <tr>\n",
       "      <th>550067</th>\n",
       "      <td>1006039</td>\n",
       "      <td>P00371644</td>\n",
       "      <td>F</td>\n",
       "      <td>46-50</td>\n",
       "      <td>0</td>\n",
       "      <td>B</td>\n",
       "      <td>4+</td>\n",
       "      <td>1</td>\n",
       "      <td>20</td>\n",
       "      <td>490</td>\n",
       "      <td>(-11.949, 2406.9]</td>\n",
       "    </tr>\n",
       "  </tbody>\n",
       "</table>\n",
       "<p>225337 rows × 11 columns</p>\n",
       "</div>"
      ],
      "text/plain": [
       "        User_ID Product_ID Gender    Age  Occupation City_Category  \\\n",
       "6       1000004  P00184942      M  46-50           7             B   \n",
       "7       1000004  P00346142      M  46-50           7             B   \n",
       "8       1000004   P0097242      M  46-50           7             B   \n",
       "9       1000005  P00274942      M  26-35          20             A   \n",
       "10      1000005  P00251242      M  26-35          20             A   \n",
       "...         ...        ...    ...    ...         ...           ...   \n",
       "550060  1006026  P00371644      M  36-45           6             C   \n",
       "550061  1006029  P00372445      F  26-35           1             C   \n",
       "550063  1006033  P00372445      M  51-55          13             B   \n",
       "550065  1006036  P00375436      F  26-35          15             B   \n",
       "550067  1006039  P00371644      F  46-50           0             B   \n",
       "\n",
       "       Stay_In_Current_City_Years  Marital_Status  Product_Category  Purchase  \\\n",
       "6                               2               1                 1     19215   \n",
       "7                               2               1                 1     15854   \n",
       "8                               2               1                 1     15686   \n",
       "9                               1               1                 8      7871   \n",
       "10                              1               1                 5      5254   \n",
       "...                           ...             ...               ...       ...   \n",
       "550060                          1               1                20       494   \n",
       "550061                          1               1                20       599   \n",
       "550063                          1               1                20       368   \n",
       "550065                         4+               1                20       137   \n",
       "550067                         4+               1                20       490   \n",
       "\n",
       "              purchase_bin  \n",
       "6       (19171.2, 21566.1]  \n",
       "7       (14381.4, 16776.3]  \n",
       "8       (14381.4, 16776.3]  \n",
       "9         (7196.7, 9591.6]  \n",
       "10        (4801.8, 7196.7]  \n",
       "...                    ...  \n",
       "550060   (-11.949, 2406.9]  \n",
       "550061   (-11.949, 2406.9]  \n",
       "550063   (-11.949, 2406.9]  \n",
       "550065   (-11.949, 2406.9]  \n",
       "550067   (-11.949, 2406.9]  \n",
       "\n",
       "[225337 rows x 11 columns]"
      ]
     },
     "execution_count": 254,
     "metadata": {},
     "output_type": "execute_result"
    }
   ],
   "source": [
    "df_married=df[df[\"Marital_Status\"]==1]\n",
    "df_married"
   ]
  },
  {
   "cell_type": "code",
   "execution_count": 255,
   "id": "e21ff451-95a8-4a9b-980e-c485a8036956",
   "metadata": {},
   "outputs": [
    {
     "data": {
      "text/plain": [
       "87440     23961\n",
       "321782    23960\n",
       "349658    23960\n",
       "292083    23960\n",
       "437804    23959\n",
       "          ...  \n",
       "546325       12\n",
       "546301       12\n",
       "548814       12\n",
       "549735       12\n",
       "548667       12\n",
       "Name: Purchase, Length: 225337, dtype: int64"
      ]
     },
     "execution_count": 255,
     "metadata": {},
     "output_type": "execute_result"
    }
   ],
   "source": [
    "df_married[\"Purchase\"].sort_values(ascending=False)"
   ]
  },
  {
   "cell_type": "code",
   "execution_count": 257,
   "id": "cee12fe9-7aaf-40c3-8b0a-7bd52a92b73a",
   "metadata": {},
   "outputs": [
    {
     "data": {
      "text/plain": [
       "<Axes: ylabel='Count'>"
      ]
     },
     "execution_count": 257,
     "metadata": {},
     "output_type": "execute_result"
    },
    {
     "data": {
      "image/png": "[encoded data removed]",
      "text/plain": [
       "<Figure size 640x480 with 1 Axes>"
      ]
     },
     "metadata": {},
     "output_type": "display_data"
    }
   ],
   "source": [
    "#creating samples and mean on the purchase column\n",
    "n=100\n",
    "sample_means=[df_married[\"Purchase\"].sample(n).mean() for i in range(1000)]\n",
    "sns.histplot(sample_means,kde=True)"
   ]
  },
  {
   "cell_type": "code",
   "execution_count": 258,
   "id": "c1d47e75-d4fb-49f6-b1ca-d148775275aa",
   "metadata": {},
   "outputs": [
    {
     "data": {
      "text/plain": [
       "9261.174574082374"
      ]
     },
     "execution_count": 258,
     "metadata": {},
     "output_type": "execute_result"
    }
   ],
   "source": [
    "Average=df_married[\"Purchase\"].mean()\n",
    "Average"
   ]
  },
  {
   "cell_type": "code",
   "execution_count": 259,
   "id": "c340ec79-19da-4195-86ac-bd85f779b1b1",
   "metadata": {},
   "outputs": [
    {
     "data": {
      "text/plain": [
       "9263.630399999998"
      ]
     },
     "execution_count": 259,
     "metadata": {},
     "output_type": "execute_result"
    }
   ],
   "source": [
    "Efficient_sample_mean_m=np.mean(sample_means)\n",
    "Efficient_sample_mean_m"
   ]
  },
  {
   "cell_type": "markdown",
   "id": "a293bc08-e34f-4b17-a39a-64cbff2657f2",
   "metadata": {},
   "source": [
    "#### So the average purchase done by married customers with sample size 100 and with 1000 samplings is found to be around 9263 which is close to the actual mean."
   ]
  },
  {
   "cell_type": "code",
   "execution_count": 260,
   "id": "e941aeb5-29c5-4811-9f9a-49135c03e886",
   "metadata": {},
   "outputs": [
    {
     "data": {
      "text/plain": [
       "501.68862457931834"
      ]
     },
     "execution_count": 260,
     "metadata": {},
     "output_type": "execute_result"
    }
   ],
   "source": [
    "standard_dev=np.std(df_married[\"Purchase\"])\n",
    "standard_error=standard_dev/np.sqrt(n)\n",
    "standard_error"
   ]
  },
  {
   "cell_type": "markdown",
   "id": "23956cbf-5778-47ce-ad9a-baeae1df57bb",
   "metadata": {},
   "source": [
    "#### The standard error for the 1000 samples with size 100 is 501.689"
   ]
  },
  {
   "cell_type": "markdown",
   "id": "cd1d89ca-ab1d-4cf2-b763-bd18f80bc108",
   "metadata": {},
   "source": [
    "### **Probability of married customers buying products worth more than 10000 from a random of 100 customers picked**"
   ]
  },
  {
   "cell_type": "code",
   "execution_count": 263,
   "id": "38ae9f71-b5b5-4105-9e4d-b5b5c9dc39e3",
   "metadata": {
    "tags": []
   },
   "outputs": [
    {
     "data": {
      "text/plain": [
       "0.9999999999999681"
      ]
     },
     "execution_count": 263,
     "metadata": {},
     "output_type": "execute_result"
    }
   ],
   "source": [
    "x=6000\n",
    "z=(x-Average)/standard_error\n",
    "norm.cdf(1-z)"
   ]
  },
  {
   "cell_type": "markdown",
   "id": "56c2331f-39f4-4acb-b649-8b7e2377b9ba",
   "metadata": {},
   "source": [
    "From the purchase amount 6000 onwards 99.99% of married customers are buying products."
   ]
  },
  {
   "cell_type": "code",
   "execution_count": 264,
   "id": "840fe42d-94b6-4949-9948-2d8db4dffa6d",
   "metadata": {
    "tags": []
   },
   "outputs": [
    {
     "data": {
      "text/plain": [
       "0.3182217285182593"
      ]
     },
     "execution_count": 264,
     "metadata": {},
     "output_type": "execute_result"
    }
   ],
   "source": [
    "# calculating the Z-score\n",
    "# Let x be 10000 as we want to calculate the probability more than 10000 dollars worth\n",
    "x=10000\n",
    "z=(x-Average)/standard_error\n",
    "norm.cdf(1-z)"
   ]
  },
  {
   "cell_type": "markdown",
   "id": "d1550274-1640-46c9-9b56-3dfd9c0ec552",
   "metadata": {
    "tags": []
   },
   "source": [
    "whereas only 31% of the married customers are tend to buy products that are worth more than 10000"
   ]
  },
  {
   "cell_type": "code",
   "execution_count": 266,
   "id": "7e093ef9-81dd-42aa-81d6-9579b090c234",
   "metadata": {
    "tags": []
   },
   "outputs": [
    {
     "data": {
      "text/plain": [
       "-2.575829303548901"
      ]
     },
     "execution_count": 266,
     "metadata": {},
     "output_type": "execute_result"
    }
   ],
   "source": [
    "# for finding 99% confidence interval, let's find the x1 and x2 values.\n",
    "z1=norm.ppf(0.005)\n",
    "z1"
   ]
  },
  {
   "cell_type": "code",
   "execution_count": 267,
   "id": "09e6d815-b7d5-4bd5-a396-b5bbf9625b5a",
   "metadata": {
    "tags": []
   },
   "outputs": [
    {
     "data": {
      "text/plain": [
       "2.5758293035489004"
      ]
     },
     "execution_count": 267,
     "metadata": {},
     "output_type": "execute_result"
    }
   ],
   "source": [
    "z2=norm.ppf(1-0.005)\n",
    "z2"
   ]
  },
  {
   "cell_type": "code",
   "execution_count": 268,
   "id": "fdabab9c-73cf-4e43-860a-07667a65b5fa",
   "metadata": {
    "tags": []
   },
   "outputs": [
    {
     "data": {
      "text/plain": [
       "6997.9774137160775"
      ]
     },
     "execution_count": 268,
     "metadata": {},
     "output_type": "execute_result"
    }
   ],
   "source": [
    "x1=(z1*standard_error_f)+Average_f\n",
    "x1"
   ]
  },
  {
   "cell_type": "code",
   "execution_count": 269,
   "id": "cbd62a3e-2ee9-4353-975b-63012c82cbd2",
   "metadata": {},
   "outputs": [
    {
     "data": {
      "text/plain": [
       "10471.154116594873"
      ]
     },
     "execution_count": 269,
     "metadata": {},
     "output_type": "execute_result"
    }
   ],
   "source": [
    "x2=(z2*standard_error_f)+Average_f\n",
    "x2"
   ]
  },
  {
   "cell_type": "markdown",
   "id": "5ae33ab4-5aca-4b9e-9f22-b2f269fe9e3d",
   "metadata": {},
   "source": [
    "The confidence Interval for 99% married customers buying products range from purchase amount is [6997,10471]\n",
    "\n",
    "So from the obtained confidence interval it is clear that, 99% of the married customers are buying product with purchase amount range [6997,10471]"
   ]
  },
  {
   "cell_type": "code",
   "execution_count": 271,
   "id": "b9d70396-dd69-4355-87a5-eaa6a5c1a23c",
   "metadata": {
    "tags": []
   },
   "outputs": [
    {
     "data": {
      "text/plain": [
       "11224     P00000142\n",
       "11232     P00000242\n",
       "98104     P00000342\n",
       "31271     P00000442\n",
       "22984     P00000542\n",
       "            ...    \n",
       "232571     P0099442\n",
       "228910     P0099642\n",
       "1160       P0099742\n",
       "9491       P0099842\n",
       "324997     P0099942\n",
       "Name: Product_ID, Length: 2902, dtype: object"
      ]
     },
     "execution_count": 271,
     "metadata": {},
     "output_type": "execute_result"
    }
   ],
   "source": [
    "# Now let's find the products that has the purchase amount within the range of [6997,10471]\n",
    "\n",
    "product_married=df_married[(df_married[\"Purchase\"]>=6997) & (df_married[\"Purchase\"]<=10471)]\n",
    "product_married=product_married.drop_duplicates(subset=[\"Product_ID\"])\n",
    "product_married[\"Product_ID\"].sort_values(ascending=True)  "
   ]
  },
  {
   "cell_type": "markdown",
   "id": "9a79ba12-668d-4375-9fc3-3b6545c7a6bb",
   "metadata": {},
   "source": [
    "* 99% of the time when a married customer wants to purchase anything, that will be under this above product ids list."
   ]
  },
  {
   "cell_type": "markdown",
   "id": "f4375646-0853-4dee-a053-2d2f6ac564ce",
   "metadata": {},
   "source": [
    "#### **Calculate Confidence Interval for unmarried customers**"
   ]
  },
  {
   "cell_type": "code",
   "execution_count": 272,
   "id": "c44d876f-5605-4e5c-bcd4-4572442d0fcb",
   "metadata": {
    "tags": []
   },
   "outputs": [
    {
     "data": {
      "text/html": [
       "<div>\n",
       "<style scoped>\n",
       "    .dataframe tbody tr th:only-of-type {\n",
       "        vertical-align: middle;\n",
       "    }\n",
       "\n",
       "    .dataframe tbody tr th {\n",
       "        vertical-align: top;\n",
       "    }\n",
       "\n",
       "    .dataframe thead th {\n",
       "        text-align: right;\n",
       "    }\n",
       "</style>\n",
       "<table border=\"1\" class=\"dataframe\">\n",
       "  <thead>\n",
       "    <tr style=\"text-align: right;\">\n",
       "      <th></th>\n",
       "      <th>User_ID</th>\n",
       "      <th>Product_ID</th>\n",
       "      <th>Gender</th>\n",
       "      <th>Age</th>\n",
       "      <th>Occupation</th>\n",
       "      <th>City_Category</th>\n",
       "      <th>Stay_In_Current_City_Years</th>\n",
       "      <th>Marital_Status</th>\n",
       "      <th>Product_Category</th>\n",
       "      <th>Purchase</th>\n",
       "      <th>purchase_bin</th>\n",
       "    </tr>\n",
       "  </thead>\n",
       "  <tbody>\n",
       "    <tr>\n",
       "      <th>0</th>\n",
       "      <td>1000001</td>\n",
       "      <td>P00069042</td>\n",
       "      <td>F</td>\n",
       "      <td>0-17</td>\n",
       "      <td>10</td>\n",
       "      <td>A</td>\n",
       "      <td>2</td>\n",
       "      <td>0</td>\n",
       "      <td>3</td>\n",
       "      <td>8370</td>\n",
       "      <td>(7196.7, 9591.6]</td>\n",
       "    </tr>\n",
       "    <tr>\n",
       "      <th>1</th>\n",
       "      <td>1000001</td>\n",
       "      <td>P00248942</td>\n",
       "      <td>F</td>\n",
       "      <td>0-17</td>\n",
       "      <td>10</td>\n",
       "      <td>A</td>\n",
       "      <td>2</td>\n",
       "      <td>0</td>\n",
       "      <td>1</td>\n",
       "      <td>15200</td>\n",
       "      <td>(14381.4, 16776.3]</td>\n",
       "    </tr>\n",
       "    <tr>\n",
       "      <th>2</th>\n",
       "      <td>1000001</td>\n",
       "      <td>P00087842</td>\n",
       "      <td>F</td>\n",
       "      <td>0-17</td>\n",
       "      <td>10</td>\n",
       "      <td>A</td>\n",
       "      <td>2</td>\n",
       "      <td>0</td>\n",
       "      <td>12</td>\n",
       "      <td>1422</td>\n",
       "      <td>(-11.949, 2406.9]</td>\n",
       "    </tr>\n",
       "    <tr>\n",
       "      <th>3</th>\n",
       "      <td>1000001</td>\n",
       "      <td>P00085442</td>\n",
       "      <td>F</td>\n",
       "      <td>0-17</td>\n",
       "      <td>10</td>\n",
       "      <td>A</td>\n",
       "      <td>2</td>\n",
       "      <td>0</td>\n",
       "      <td>12</td>\n",
       "      <td>1057</td>\n",
       "      <td>(-11.949, 2406.9]</td>\n",
       "    </tr>\n",
       "    <tr>\n",
       "      <th>4</th>\n",
       "      <td>1000002</td>\n",
       "      <td>P00285442</td>\n",
       "      <td>M</td>\n",
       "      <td>55+</td>\n",
       "      <td>16</td>\n",
       "      <td>C</td>\n",
       "      <td>4+</td>\n",
       "      <td>0</td>\n",
       "      <td>8</td>\n",
       "      <td>7969</td>\n",
       "      <td>(7196.7, 9591.6]</td>\n",
       "    </tr>\n",
       "    <tr>\n",
       "      <th>...</th>\n",
       "      <td>...</td>\n",
       "      <td>...</td>\n",
       "      <td>...</td>\n",
       "      <td>...</td>\n",
       "      <td>...</td>\n",
       "      <td>...</td>\n",
       "      <td>...</td>\n",
       "      <td>...</td>\n",
       "      <td>...</td>\n",
       "      <td>...</td>\n",
       "      <td>...</td>\n",
       "    </tr>\n",
       "    <tr>\n",
       "      <th>550056</th>\n",
       "      <td>1006022</td>\n",
       "      <td>P00375436</td>\n",
       "      <td>M</td>\n",
       "      <td>26-35</td>\n",
       "      <td>17</td>\n",
       "      <td>C</td>\n",
       "      <td>4+</td>\n",
       "      <td>0</td>\n",
       "      <td>20</td>\n",
       "      <td>254</td>\n",
       "      <td>(-11.949, 2406.9]</td>\n",
       "    </tr>\n",
       "    <tr>\n",
       "      <th>550059</th>\n",
       "      <td>1006025</td>\n",
       "      <td>P00370853</td>\n",
       "      <td>F</td>\n",
       "      <td>26-35</td>\n",
       "      <td>1</td>\n",
       "      <td>B</td>\n",
       "      <td>1</td>\n",
       "      <td>0</td>\n",
       "      <td>19</td>\n",
       "      <td>48</td>\n",
       "      <td>(-11.949, 2406.9]</td>\n",
       "    </tr>\n",
       "    <tr>\n",
       "      <th>550062</th>\n",
       "      <td>1006032</td>\n",
       "      <td>P00372445</td>\n",
       "      <td>M</td>\n",
       "      <td>46-50</td>\n",
       "      <td>7</td>\n",
       "      <td>A</td>\n",
       "      <td>3</td>\n",
       "      <td>0</td>\n",
       "      <td>20</td>\n",
       "      <td>473</td>\n",
       "      <td>(-11.949, 2406.9]</td>\n",
       "    </tr>\n",
       "    <tr>\n",
       "      <th>550064</th>\n",
       "      <td>1006035</td>\n",
       "      <td>P00375436</td>\n",
       "      <td>F</td>\n",
       "      <td>26-35</td>\n",
       "      <td>1</td>\n",
       "      <td>C</td>\n",
       "      <td>3</td>\n",
       "      <td>0</td>\n",
       "      <td>20</td>\n",
       "      <td>371</td>\n",
       "      <td>(-11.949, 2406.9]</td>\n",
       "    </tr>\n",
       "    <tr>\n",
       "      <th>550066</th>\n",
       "      <td>1006038</td>\n",
       "      <td>P00375436</td>\n",
       "      <td>F</td>\n",
       "      <td>55+</td>\n",
       "      <td>1</td>\n",
       "      <td>C</td>\n",
       "      <td>2</td>\n",
       "      <td>0</td>\n",
       "      <td>20</td>\n",
       "      <td>365</td>\n",
       "      <td>(-11.949, 2406.9]</td>\n",
       "    </tr>\n",
       "  </tbody>\n",
       "</table>\n",
       "<p>324731 rows × 11 columns</p>\n",
       "</div>"
      ],
      "text/plain": [
       "        User_ID Product_ID Gender    Age  Occupation City_Category  \\\n",
       "0       1000001  P00069042      F   0-17          10             A   \n",
       "1       1000001  P00248942      F   0-17          10             A   \n",
       "2       1000001  P00087842      F   0-17          10             A   \n",
       "3       1000001  P00085442      F   0-17          10             A   \n",
       "4       1000002  P00285442      M    55+          16             C   \n",
       "...         ...        ...    ...    ...         ...           ...   \n",
       "550056  1006022  P00375436      M  26-35          17             C   \n",
       "550059  1006025  P00370853      F  26-35           1             B   \n",
       "550062  1006032  P00372445      M  46-50           7             A   \n",
       "550064  1006035  P00375436      F  26-35           1             C   \n",
       "550066  1006038  P00375436      F    55+           1             C   \n",
       "\n",
       "       Stay_In_Current_City_Years  Marital_Status  Product_Category  Purchase  \\\n",
       "0                               2               0                 3      8370   \n",
       "1                               2               0                 1     15200   \n",
       "2                               2               0                12      1422   \n",
       "3                               2               0                12      1057   \n",
       "4                              4+               0                 8      7969   \n",
       "...                           ...             ...               ...       ...   \n",
       "550056                         4+               0                20       254   \n",
       "550059                          1               0                19        48   \n",
       "550062                          3               0                20       473   \n",
       "550064                          3               0                20       371   \n",
       "550066                          2               0                20       365   \n",
       "\n",
       "              purchase_bin  \n",
       "0         (7196.7, 9591.6]  \n",
       "1       (14381.4, 16776.3]  \n",
       "2        (-11.949, 2406.9]  \n",
       "3        (-11.949, 2406.9]  \n",
       "4         (7196.7, 9591.6]  \n",
       "...                    ...  \n",
       "550056   (-11.949, 2406.9]  \n",
       "550059   (-11.949, 2406.9]  \n",
       "550062   (-11.949, 2406.9]  \n",
       "550064   (-11.949, 2406.9]  \n",
       "550066   (-11.949, 2406.9]  \n",
       "\n",
       "[324731 rows x 11 columns]"
      ]
     },
     "execution_count": 272,
     "metadata": {},
     "output_type": "execute_result"
    }
   ],
   "source": [
    "df_unmarried=df[df[\"Marital_Status\"]==0]\n",
    "df_unmarried"
   ]
  },
  {
   "cell_type": "code",
   "execution_count": 273,
   "id": "be5cb4cc-0898-4d32-91c0-9de4c43f3e64",
   "metadata": {
    "tags": []
   },
   "outputs": [
    {
     "data": {
      "text/plain": [
       "93016     23961\n",
       "370891    23961\n",
       "503697    23960\n",
       "298378    23959\n",
       "416883    23958\n",
       "          ...  \n",
       "547538       12\n",
       "549009       12\n",
       "549021       12\n",
       "549989       12\n",
       "547885       12\n",
       "Name: Purchase, Length: 324731, dtype: int64"
      ]
     },
     "execution_count": 273,
     "metadata": {},
     "output_type": "execute_result"
    }
   ],
   "source": [
    "df_unmarried[\"Purchase\"].sort_values(ascending=False)"
   ]
  },
  {
   "cell_type": "code",
   "execution_count": 276,
   "id": "09f509db-ed00-4cc5-a875-d9b6be15d57f",
   "metadata": {
    "tags": []
   },
   "outputs": [
    {
     "data": {
      "text/plain": [
       "<Axes: ylabel='Count'>"
      ]
     },
     "execution_count": 276,
     "metadata": {},
     "output_type": "execute_result"
    },
    {
     "data": {
      "image/png": "[encoded data removed]",
      "text/plain": [
       "<Figure size 640x480 with 1 Axes>"
      ]
     },
     "metadata": {},
     "output_type": "display_data"
    }
   ],
   "source": [
    "#creating samples and mean on the purchase column\n",
    "n=100\n",
    "sample_means_f=[df_unmarried[\"Purchase\"].sample(n).mean() for i in range(1000)]\n",
    "sns.histplot(sample_means_f,kde=True)"
   ]
  },
  {
   "cell_type": "code",
   "execution_count": 277,
   "id": "9cdfd65c-7328-421d-a9cd-0244c9dc6026",
   "metadata": {
    "tags": []
   },
   "outputs": [
    {
     "data": {
      "text/plain": [
       "9265.907618921507"
      ]
     },
     "execution_count": 277,
     "metadata": {},
     "output_type": "execute_result"
    }
   ],
   "source": [
    "Average_u=df_unmarried[\"Purchase\"].mean()\n",
    "Average_u"
   ]
  },
  {
   "cell_type": "code",
   "execution_count": 278,
   "id": "ae16091e-426d-4bfe-9647-cb594bfd771d",
   "metadata": {
    "tags": []
   },
   "outputs": [
    {
     "data": {
      "text/plain": [
       "9263.630399999998"
      ]
     },
     "execution_count": 278,
     "metadata": {},
     "output_type": "execute_result"
    }
   ],
   "source": [
    "Efficient_sample_mean_u=np.mean(sample_means)\n",
    "Efficient_sample_mean_u"
   ]
  },
  {
   "cell_type": "code",
   "execution_count": 279,
   "id": "2dd2faa2-e1fd-4824-857e-f2f1146e03bf",
   "metadata": {
    "tags": []
   },
   "outputs": [
    {
     "data": {
      "text/plain": [
       "502.7340117880186"
      ]
     },
     "execution_count": 279,
     "metadata": {},
     "output_type": "execute_result"
    }
   ],
   "source": [
    "standard_dev_u=np.std(df_unmarried[\"Purchase\"])\n",
    "standard_error_u=standard_dev_u/np.sqrt(n)\n",
    "standard_error_u"
   ]
  },
  {
   "cell_type": "markdown",
   "id": "7ca3474d-4e5a-45d0-a010-8a9bf73a2cef",
   "metadata": {},
   "source": [
    "#### The standard error for 1000 samples with size 100 is around 502.734"
   ]
  },
  {
   "cell_type": "markdown",
   "id": "2bb91470-8c24-4283-9065-7c10f341fcf0",
   "metadata": {},
   "source": [
    "#### **Probability of unmarried customers buying products worth more than 10000 from a random of 100 customers picked**"
   ]
  },
  {
   "cell_type": "code",
   "execution_count": 282,
   "id": "2409f4f5-7045-4913-9def-bf105e314a21",
   "metadata": {
    "tags": []
   },
   "outputs": [
    {
     "data": {
      "text/plain": [
       "0.9999999999999671"
      ]
     },
     "execution_count": 282,
     "metadata": {},
     "output_type": "execute_result"
    }
   ],
   "source": [
    "# calculating the Z-score\n",
    "# Let x be 4000 - 10000 as we want to calculate the probability more than 10000 dollars worth\n",
    "x=6000\n",
    "z=(x-Average_u)/standard_error_u\n",
    "norm.cdf(1-z)"
   ]
  },
  {
   "cell_type": "markdown",
   "id": "2d959c42-3594-4ab1-a3ad-fd310db71446",
   "metadata": {},
   "source": [
    "From the purchase amount 6000 onwards 99.99% of unmarried customers are buying products."
   ]
  },
  {
   "cell_type": "code",
   "execution_count": 283,
   "id": "2a0faa5b-508a-46cf-8ae2-1ce6a65d1dfe",
   "metadata": {
    "tags": []
   },
   "outputs": [
    {
     "data": {
      "text/plain": [
       "0.32268620910285534"
      ]
     },
     "execution_count": 283,
     "metadata": {},
     "output_type": "execute_result"
    }
   ],
   "source": [
    "x=10000\n",
    "z=(x-Average_u)/standard_error_u\n",
    "norm.cdf(1-z)"
   ]
  },
  {
   "cell_type": "markdown",
   "id": "ef9eaec2-ce31-47bc-913a-9bb3dd7cd001",
   "metadata": {
    "tags": []
   },
   "source": [
    "whereas only 32% of the unmarried customers are tend to buy products that are worth more than 10000"
   ]
  },
  {
   "cell_type": "code",
   "execution_count": 285,
   "id": "bb453a48-fc28-4858-b87c-b79fd33ee983",
   "metadata": {
    "tags": []
   },
   "outputs": [
    {
     "data": {
      "text/plain": [
       "(7968.910313633822, 10553.438834530925)"
      ]
     },
     "execution_count": 285,
     "metadata": {},
     "output_type": "execute_result"
    }
   ],
   "source": [
    "# Finding the range of purchase amount for 99% confidence interval.\n",
    "z1=norm.ppf(0.005)\n",
    "z2=norm.ppf(1-0.005)\n",
    "x1=(z1*standard_error)+Average\n",
    "x2=(z2*standard_error)+Average\n",
    "x1,x2"
   ]
  },
  {
   "cell_type": "markdown",
   "id": "eea04318-ba2b-4704-a233-b1ebd4a88705",
   "metadata": {},
   "source": [
    "So from the obtained confidence interval it is clear that, 99% of the customers are buying product with purchase amount range 7968.9 and 10553.4"
   ]
  },
  {
   "cell_type": "markdown",
   "id": "ae6fa327-a896-4b0a-9c2a-5fa19b48ec61",
   "metadata": {},
   "source": [
    "### **Observations:**\n",
    "\n",
    "    * 99% of both married and unmarried customers are buying products with purchase amount more than 6000\n",
    "    * Also customers tend to buy products with purchase amount more than greater 10000 is also on an average of 31 to 32 % for both married and unmarried customers.\n",
    "    * For 99% of the customers both the married and unmarried, the purchase amount ranges from 6997-10553. From this we can conclude that marital status doesnt affect the transactions much."
   ]
  },
  {
   "cell_type": "markdown",
   "id": "2735efc4-b357-461b-9d61-77f50a6ed432",
   "metadata": {},
   "source": [
    "## **Recommendations:**\n",
    "1.We can clearly see that Males and Singles have dominated in the aspect of number of transactions , so adding items that match with usage of each other by placing that combination products at immediate shelfs can increase the sales from Males and singles .\n",
    "\n",
    "2.For females and Partnered customers , to increase the number of transactions , which also means the number of times they visit to walmart to shop , installing babycare facility for customers , play zone for kids and also foods like snacks and beverage will help to attract customers to spend time in walmart as usually taking care of kids during shopping always seem a burden , also with food Recommendations available it becomes a chill spot after shopping. People who are young and middle aged seem to do more shopping , to improve the\n",
    "transactions in remaining age category like old age people 45 and above years , special billing lines could help as there would be less waiting time , less standing in line , hence old age employee friendly.\n",
    "\n",
    "3. Product categories that have low transactions like 14,17,9 can be considered as less used items , which can be stocked in low quantities and Product categories that have high transactions like 5,1,3 have high usage , hence have to be restocked frequently .\n",
    "\n",
    "4.City category A has very low transactions which can be improved by creating Seasonal offers and digital marketing , alsohome delivery on a minimum spend.\n",
    "\n",
    "5.Occupation more than 7 have very low number of transaction frequency , where we can assume as the occupation rate increases free time may decrease to do live shopping, hence adapting a local e-commerce app or website , where the customers add items to their cart and pay the bill with additional delivery fee and the items can be delivered to home with in 1 day.\n",
    "\n",
    "6.Products with cost range of 500 to 10000 have more transactions which can be considered as frequently used items , these items are to be restocked frequently and creating a combo with one item that has high transactions and other has low transactions may help in boosting the lower transaction item sales.\n",
    "\n",
    "7.The range of purchase in city category “C” is higher compared to other categories, decreasing the offers in this area and investing it"
   ]
  },
  {
   "cell_type": "code",
   "execution_count": null,
   "id": "1abe4e1c-4d09-4b09-bdb4-7a2c5162abfc",
   "metadata": {},
   "outputs": [],
   "source": []
  }
 ],
 "metadata": {
  "kernelspec": {
   "display_name": "Python 3 (ipykernel)",
   "language": "python",
   "name": "python3"
  },
  "language_info": {
   "codemirror_mode": {
    "name": "ipython",
    "version": 3
   },
   "file_extension": ".py",
   "mimetype": "text/x-python",
   "name": "python",
   "nbconvert_exporter": "python",
   "pygments_lexer": "ipython3",
   "version": "3.10.9"
  }
 },
 "nbformat": 4,
 "nbformat_minor": 5
}
